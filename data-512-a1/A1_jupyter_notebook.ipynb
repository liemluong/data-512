{
 "cells": [
  {
   "cell_type": "markdown",
   "metadata": {},
   "source": [
    "# Summary\n",
    "\n",
    "This project is about analyzing the English Wikipedia traffic from January 1, 2008 through August 30, 2020. In particular, we will collect the data, perform the transformation, analyze the monthly traffic for various indicators, and visualize the final result in a comprehensive way.\n",
    "\n",
    "A copy of the code, data, and documentation are available in a single GitHub repository:\n",
    "https://github.com/liemluong/data-512/tree/main/data-512-a1\n",
    "\n",
    "All the details are documented in this Jupyter notebook from the begginng to the end. The steps are executed in sequence."
   ]
  },
  {
   "cell_type": "markdown",
   "metadata": {},
   "source": [
    "------------------------------------------------------------------------------------------------------------------------"
   ]
  },
  {
   "cell_type": "markdown",
   "metadata": {},
   "source": [
    "# STEP 1: GATHERING THE DATA\n",
    "\n",
    "In this step, we will perform a series of steps to collect the data for our project from two API endpoints: \n",
    "\n",
    "**1. Legacy Pagecounts API**\n",
    "   - This source provides access to desktop and mobile traffic data from December 2007 through July 2016\n",
    "   \n",
    "   \n",
    "**2. Pageviews API**\n",
    "   - This source provides access to desktop, mobile web, and mobile app traffic data from July 2015 through last month\n",
    "   \n",
    "\n",
    "There will be a total of five JSON source data file (one file per API query type). Each JSON filename will follow the naming convention to have a consistent format:\n",
    "apiname_accesstype_firstmonth-lastmonth.json"
   ]
  },
  {
   "cell_type": "markdown",
   "metadata": {},
   "source": [
    "---------------------------------------------------------------"
   ]
  },
  {
   "cell_type": "markdown",
   "metadata": {},
   "source": [
    "The cell below displays a list of library from Python that we will need to import into this Jupyter notebook in order to execute the code and perform the analysis: json, csv, pandas, numpy, and matplotlib"
   ]
  },
  {
   "cell_type": "code",
   "execution_count": 1,
   "metadata": {},
   "outputs": [],
   "source": [
    "import json\n",
    "import requests\n",
    "import csv\n",
    "import pandas as pd\n",
    "import numpy as np\n",
    "import matplotlib.pyplot as plt\n",
    "import matplotlib.dates as mdates\n",
    "from matplotlib.dates import DateFormatter"
   ]
  },
  {
   "cell_type": "markdown",
   "metadata": {},
   "source": [
    "Set up the structure of the endpoints with componets in the correct order of the API format.\n",
    "\n",
    "For simplicity, we will use \"pagecounts\" keyword to represent the legacy pagecount API and \"pageviews\" keyword to represent the pageview API "
   ]
  },
  {
   "cell_type": "code",
   "execution_count": 2,
   "metadata": {},
   "outputs": [],
   "source": [
    "endpoint_pagecounts = 'https://wikimedia.org/api/rest_v1/metrics/' \\\n",
    "                      'legacy/pagecounts/aggregate/{project}/{access-site}/{granularity}/{start}/{end}'\n",
    "\n",
    "endpoint_pageviews = 'https://wikimedia.org/api/rest_v1/metrics/' \\\n",
    "                     'pageviews/aggregate/{project}/{access}/{agent}/{granularity}/{start}/{end}'"
   ]
  },
  {
   "cell_type": "markdown",
   "metadata": {},
   "source": [
    "Each API data source has its data available for certain period and they are all within the January 2008 through August 2020. But if we use the same start and end for all five JSONs with Jan 2008 and Aug 2020 respectively, these will produce the very different chart from the assignment.\n",
    "\n",
    "### Key factor in determine the correct start and end date\n",
    "We have to take into the consideration of when the data is available based on the API documentation. By incorporating this factor with the assignment requirement, we will end up with the correct first 'start' and 'end' value for all JSON files. You will see the final visualization will be similar to the example from the assignment in the end.\n",
    "\n",
    "Time series diagram below. \n",
    "\n",
    "**January 1, 2008 ------------------------------ July 2015-----------July 2016 ----------------------------- August 30, 2020**\n",
    "\n",
    "**pagecount**\n",
    "- Per API documentation, its data is available from December 2007 through **July 2016** == > **'end' is July 2016**\n",
    "- Per the assignment analysis requirement from **Jan 2008** through August 2020 == > **'start' is Jan 2008**\n",
    "\n",
    "**pageview**\n",
    "- Per API documentation, its data is available from **July 2015** through last month == > **'start' is July 2015**\n",
    "- Per the assignment analysis requirement from Jan 2008 through **August 2020** ==> **'end' is August 2020**\n",
    "\n",
    "Now we need to set up the parameters for each API query that will fit into correct structure of previous endpoints. Below are the parameter values for five separate JSON queries"
   ]
  },
  {
   "cell_type": "markdown",
   "metadata": {},
   "source": [
    "**Pagecount Desktop:** traffic parameters definition set up"
   ]
  },
  {
   "cell_type": "code",
   "execution_count": 3,
   "metadata": {},
   "outputs": [],
   "source": [
    "# Note: \n",
    "# Per API documentation, its data is available from December 2007 through July 2016 == > 'end' is July 2016\n",
    "# Per the assignment analysis requirement from Jan 2008 through August 2020 = > 'start' is Jan 2008\n",
    "\n",
    "params_pagecounts_desktop_traffic = {\"project\" :     \"en.wikipedia.org\",\n",
    "                                     \"access-site\" : \"desktop-site\",\n",
    "                                     \"granularity\" : \"monthly\",\n",
    "                                     \"start\" :       \"2008010100\",\n",
    "                                     \"end\" :         \"2016070100\"\n",
    "                                    }"
   ]
  },
  {
   "cell_type": "markdown",
   "metadata": {},
   "source": [
    "**Pagecount Mobile:** traffic parameters definition set up"
   ]
  },
  {
   "cell_type": "code",
   "execution_count": 4,
   "metadata": {},
   "outputs": [],
   "source": [
    "# Note: \n",
    "# Per API documentation, its data is available from December 2007 through July 2016 == > 'end' is July 2016\n",
    "# Per the assignment analysis requirement from Jan 2008 through August 2020 = > 'start' is Jan 2008\n",
    "\n",
    "params_pagecounts_mobile_traffic = {\"project\" :     \"en.wikipedia.org\",\n",
    "                                    \"access-site\" : \"mobile-site\",\n",
    "                                    \"granularity\" : \"monthly\",\n",
    "                                    \"start\" :       \"2008010100\",\n",
    "                                    \"end\" :         \"2016070100\"\n",
    "                                   }"
   ]
  },
  {
   "cell_type": "markdown",
   "metadata": {},
   "source": [
    "**Pageview Desktop:** traffic parameters definition set up"
   ]
  },
  {
   "cell_type": "code",
   "execution_count": 5,
   "metadata": {},
   "outputs": [],
   "source": [
    "# Note:\n",
    "# Per API documentation, its data is available from July 2015 through last month == > 'start' is July 2015\n",
    "# Per the assignment analysis requirement from Jan 2008 through August 2020 ==> 'end' is August 2020\n",
    "# Also the agent is set as user, this will ensure the query is from real user rather than web crawler\n",
    "\n",
    "params_pageviews_desktop_traffic = {\"project\" :     \"en.wikipedia.org\",\n",
    "                                    \"access\" :      \"desktop\",\n",
    "                                    \"agent\" :       \"user\",\n",
    "                                    \"granularity\" : \"monthly\",\n",
    "                                    \"start\" :       \"2015070100\",\n",
    "                                    \"end\" :         \"2020080100\"\n",
    "                                    }"
   ]
  },
  {
   "cell_type": "markdown",
   "metadata": {},
   "source": [
    "**Pageview Mobile:** web traffic parameters definition set up"
   ]
  },
  {
   "cell_type": "code",
   "execution_count": 6,
   "metadata": {},
   "outputs": [],
   "source": [
    "# Note:\n",
    "# Per API documentation, its data is available from July 2015 through last month == > 'start' is July 2015\n",
    "# Per the assignment analysis requirement from Jan 2008 through August 2020 ==> 'end' is August 2020\n",
    "# Also the agent is set as user, this will ensure the query is from real user rather than web crawler\n",
    "\n",
    "params_pageviews_mobile_web_traffic = {\"project\" :     \"en.wikipedia.org\",\n",
    "                                       \"access\" :      \"mobile-web\",\n",
    "                                       \"agent\" :       \"user\",\n",
    "                                       \"granularity\" : \"monthly\",\n",
    "                                       \"start\" :       \"2015070100\",\n",
    "                                       \"end\" :         \"2020080100\"\n",
    "                                       }"
   ]
  },
  {
   "cell_type": "markdown",
   "metadata": {},
   "source": [
    "**Pageview Mobile:** app traffic parameters definition set up"
   ]
  },
  {
   "cell_type": "code",
   "execution_count": 7,
   "metadata": {},
   "outputs": [],
   "source": [
    "# Note: \n",
    "# Per API documentation, its data is available from July 2015 through last month == > 'start' is July 2015\n",
    "# Per the assignment analysis requirement from Jan 2008 through August 2020 ==> 'end' is August 2020\n",
    "# Also the agent is set as user, this will ensure the query is from real user rather than web crawler\n",
    "\n",
    "params_pageviews_mobile_app_traffic = {\"project\" :     \"en.wikipedia.org\",\n",
    "                                       \"access\" :      \"mobile-app\",\n",
    "                                       \"agent\" :       \"user\",\n",
    "                                       \"granularity\" : \"monthly\",\n",
    "                                       \"start\" :       \"2015070100\",\n",
    "                                       \"end\" :         \"2020080100\"\n",
    "                                      }"
   ]
  },
  {
   "cell_type": "markdown",
   "metadata": {},
   "source": [
    "When we execute the query to extract the data from the API, we dont want to be anonymous. Therefore, it is better to set up the header with your user information. This will help the API web server knowing this is a real and authentice users rather than some random robot."
   ]
  },
  {
   "cell_type": "code",
   "execution_count": 8,
   "metadata": {},
   "outputs": [],
   "source": [
    "# Below is my information for the header. You can customize these values with your own information\n",
    "\n",
    "headers = {'User-Agent': 'https://github.com/liemluong',\n",
    "           'From': 'liem99@uw.edu'\n",
    "           }"
   ]
  },
  {
   "cell_type": "markdown",
   "metadata": {},
   "source": [
    "After setting up the API queries and parameter values, now we need to define a function to execute the JSON files.\n",
    "This is a one function using for all five JSON calls "
   ]
  },
  {
   "cell_type": "code",
   "execution_count": 9,
   "metadata": {},
   "outputs": [],
   "source": [
    "def api_call(endpoint, parameters):\n",
    "    call = requests.get(endpoint.format(**parameters), headers=headers)\n",
    "    response = call.json()\n",
    "    \n",
    "    return response"
   ]
  },
  {
   "cell_type": "markdown",
   "metadata": {},
   "source": [
    "The following cells will perform the steps:\n",
    "1. Execution the API calls\n",
    "2. Results from JSON query are saved to the approriate variables:\n",
    "   - pagecounts_desktop\n",
    "   - pagecounts_mobile\n",
    "   - pageviews_desktop\n",
    "   - pageviews_mobileweb\n",
    "   - pageviews_mobileapp\n",
    "3. Save the raw data from JSON file following the naming format: **apiname_accesstype_firstmonth-lastmonth.json**\n",
    "\n",
    "Note: my five JSON files are saved into the same working directory of my Jupyer notebook. This location path will be different from your machine, so please feel free to change the directory path to meet your system."
   ]
  },
  {
   "cell_type": "markdown",
   "metadata": {},
   "source": [
    "**pagecounts_desktop:** call API and save JSON file"
   ]
  },
  {
   "cell_type": "code",
   "execution_count": 10,
   "metadata": {},
   "outputs": [],
   "source": [
    "pagecounts_desktop = api_call(endpoint_pagecounts, params_pagecounts_desktop_traffic)\n",
    "\n",
    "with open('pagecounts_desktop-site_200801_201607.json', 'w') as f:\n",
    "    json.dump(pagecounts_desktop, f)"
   ]
  },
  {
   "cell_type": "markdown",
   "metadata": {},
   "source": [
    "**pagecounts_mobile:** call API and save JSON file"
   ]
  },
  {
   "cell_type": "code",
   "execution_count": 11,
   "metadata": {},
   "outputs": [],
   "source": [
    "pagecounts_mobile = api_call(endpoint_pagecounts, params_pagecounts_mobile_traffic)\n",
    "\n",
    "with open('pagecounts_mobile-site_200801_201607.json', 'w') as f:\n",
    "    json.dump(pagecounts_mobile, f)"
   ]
  },
  {
   "cell_type": "markdown",
   "metadata": {},
   "source": [
    "**pageviews_desktop:** call API and save JSON file"
   ]
  },
  {
   "cell_type": "code",
   "execution_count": 12,
   "metadata": {},
   "outputs": [],
   "source": [
    "pageviews_desktop = api_call(endpoint_pageviews, params_pageviews_desktop_traffic)\n",
    "\n",
    "with open('pageviews_desktop_201507_202008.json', 'w') as f:\n",
    "    json.dump(pageviews_desktop, f)"
   ]
  },
  {
   "cell_type": "markdown",
   "metadata": {},
   "source": [
    "**pageview_mobileweb:** call API and save JSON file"
   ]
  },
  {
   "cell_type": "code",
   "execution_count": 13,
   "metadata": {},
   "outputs": [],
   "source": [
    "pageviews_mobileweb = api_call(endpoint_pageviews, params_pageviews_mobile_web_traffic)\n",
    "\n",
    "with open('pageviews_mobile-web_201507_202008.json', 'w') as f:\n",
    "    json.dump(pageviews_mobileweb, f)"
   ]
  },
  {
   "cell_type": "markdown",
   "metadata": {},
   "source": [
    "**pageview_mobileapp:** call API and save JSON file"
   ]
  },
  {
   "cell_type": "code",
   "execution_count": 14,
   "metadata": {},
   "outputs": [],
   "source": [
    "pageviews_mobileapp = api_call(endpoint_pageviews, params_pageviews_mobile_app_traffic)\n",
    "\n",
    "with open('pageviews_mobile-app_201507_202008.json', 'w') as f:\n",
    "    json.dump(pageviews_mobileapp, f)"
   ]
  },
  {
   "cell_type": "markdown",
   "metadata": {},
   "source": [
    "# STEP 2: PROCESSING THE DATA\n",
    "\n",
    "In this step, we will perform a series of data transformations for these five json data results into a final structure that will be using for visualization in step 3\n",
    "\n",
    "In details, below are the following tasks:\n",
    "1. Read data from JSON files into data frame in Python\n",
    "2. Keep only the relevant column fields for the analysis\n",
    "3. For pageview data, we will combine mobile-app and mobile-web into one total mobile\n",
    "4. For each pagecount and pageview, calculate the total view for both desktop and mobile in each category\n",
    "5. Merge both final pagecount and pageview category into one final data frame\n",
    "6. Splitting the year and month columns from the timestamp\n",
    "7. For all months with 0 traffic data for any particular access method, the value for these columns will be converted to 0\n",
    "8. Finally, save the final clean data into a CSV file with the name format: **en-wikipedia_traffic_200801-202008.csv**\n",
    "\n",
    "For clean code, i denote 'pc' as pagecount and 'pv' as pageview for simplicity notation. Feel free to name its your choice. "
   ]
  },
  {
   "cell_type": "markdown",
   "metadata": {},
   "source": [
    "--------------------------------------------------------------------------------------------------------------------------"
   ]
  },
  {
   "cell_type": "markdown",
   "metadata": {},
   "source": [
    "**Pagecount Desktop:** Reading the data from the JSON file into Python data frame structure"
   ]
  },
  {
   "cell_type": "code",
   "execution_count": 15,
   "metadata": {},
   "outputs": [],
   "source": [
    "# open the first JSON file\n",
    "f1 = open('pagecounts_desktop-site_200801_201607.json')\n",
    "\n",
    "pc_desktop = json.load(f1)\n",
    "\n",
    "f1.close()\n",
    "# close the first JSON file"
   ]
  },
  {
   "cell_type": "markdown",
   "metadata": {},
   "source": [
    "Format the data frame into a logical structure for analysis"
   ]
  },
  {
   "cell_type": "code",
   "execution_count": 16,
   "metadata": {},
   "outputs": [],
   "source": [
    "# convert from dict to data frame\n",
    "df_pc_desktop = pd.DataFrame.from_dict(pc_desktop['items']) \n",
    "\n",
    "# trim the columns from data frame to keep timestamp and count\n",
    "df_pc_desktop = df_pc_desktop.drop(['project', 'access-site', 'granularity'], axis = 1)\n",
    "\n",
    "# rename the columns in dataframe. using timestamp as a unique key for merging later\n",
    "df_pc_desktop.columns = ['UniqueID', 'pagecount_desktop_views']"
   ]
  },
  {
   "cell_type": "markdown",
   "metadata": {},
   "source": [
    "**Pagecount Mobile:** Reading the data from the JSON file into Python data frame structure"
   ]
  },
  {
   "cell_type": "code",
   "execution_count": 17,
   "metadata": {},
   "outputs": [],
   "source": [
    "# open the second JSON file\n",
    "f2 = open('pagecounts_mobile-site_200801_201607.json')\n",
    "\n",
    "pc_mobile = json.load(f2)\n",
    "\n",
    "f2.close()\n",
    "# close the second JSON file"
   ]
  },
  {
   "cell_type": "markdown",
   "metadata": {},
   "source": [
    "Format the data frame into a logical structure for analysis"
   ]
  },
  {
   "cell_type": "code",
   "execution_count": 18,
   "metadata": {},
   "outputs": [],
   "source": [
    "# convert from dict to data frame\n",
    "df_pc_mobile = pd.DataFrame.from_dict(pc_mobile['items']) \n",
    "\n",
    "# trim the columns from data frame to keep timestamp and count\n",
    "df_pc_mobile = df_pc_mobile.drop(['project', 'access-site', 'granularity'], axis = 1)\n",
    "\n",
    "# rename the columns in dataframe. using timestamp as a unique key for merging later\n",
    "df_pc_mobile.columns = ['UniqueID', 'pagecount_mobile_views']"
   ]
  },
  {
   "cell_type": "markdown",
   "metadata": {},
   "source": [
    "**Pageview Desktop:** Reading the data from the JSON file into Python data frame structure"
   ]
  },
  {
   "cell_type": "code",
   "execution_count": 19,
   "metadata": {},
   "outputs": [],
   "source": [
    "# open the third JSON file\n",
    "f3 = open('pageviews_desktop_201507_202008.json')\n",
    "\n",
    "pv_desktop = json.load(f3)\n",
    "\n",
    "f3.close()\n",
    "# close the third JSON file"
   ]
  },
  {
   "cell_type": "markdown",
   "metadata": {},
   "source": [
    "Format the data frame into a logical structure for analysis"
   ]
  },
  {
   "cell_type": "code",
   "execution_count": 20,
   "metadata": {},
   "outputs": [],
   "source": [
    "# convert from dict to data frame\n",
    "df_pv_desktop = pd.DataFrame.from_dict(pv_desktop['items']) \n",
    "\n",
    "# trim the columns from data frame to keep timestamp and count\n",
    "df_pv_desktop = df_pv_desktop.drop(['project', 'access', 'agent', 'granularity'], axis = 1)\n",
    "\n",
    "# rename the columns in dataframe. using timestamp as a unique key for merging later\n",
    "df_pv_desktop.columns = ['UniqueID', 'pageview_desktop_views']"
   ]
  },
  {
   "cell_type": "markdown",
   "metadata": {},
   "source": [
    "**Pageview Mobile Web:** Reading the data from the JSON file into Python data frame structure"
   ]
  },
  {
   "cell_type": "code",
   "execution_count": 21,
   "metadata": {},
   "outputs": [],
   "source": [
    "# open the fourth JSON file\n",
    "f4 = open('pageviews_mobile-web_201507_202008.json')\n",
    "\n",
    "pv_mobile_web = json.load(f4)\n",
    "\n",
    "f4.close()\n",
    "# close the fourth JSON file"
   ]
  },
  {
   "cell_type": "markdown",
   "metadata": {},
   "source": [
    "Format the data frame into a logical structure for analysis"
   ]
  },
  {
   "cell_type": "code",
   "execution_count": 22,
   "metadata": {},
   "outputs": [],
   "source": [
    "# convert from dict to data frame\n",
    "df_pv_mobile_web = pd.DataFrame.from_dict(pv_mobile_web['items']) \n",
    "\n",
    "# trim the columns from data frame to keep timestamp and count\n",
    "df_pv_mobile_web = df_pv_mobile_web.drop(['project', 'access', 'agent', 'granularity'], axis = 1)\n",
    "\n",
    "# rename the columns in dataframe. using timestamp as a unique key for merging later\n",
    "df_pv_mobile_web.columns = ['UniqueID', 'pageview_mobile_web_views']"
   ]
  },
  {
   "cell_type": "markdown",
   "metadata": {},
   "source": [
    "**Pageview Mobile App:** Reading the data from the JSON file into Python data frame structure"
   ]
  },
  {
   "cell_type": "code",
   "execution_count": 23,
   "metadata": {},
   "outputs": [],
   "source": [
    "# open the fifth JSON file\n",
    "f5 = open('pageviews_mobile-app_201507_202008.json')\n",
    "\n",
    "pv_mobile_app = json.load(f5)\n",
    "\n",
    "f5.close()\n",
    "# close the fifth JSON file"
   ]
  },
  {
   "cell_type": "markdown",
   "metadata": {},
   "source": [
    "Format the data frame into a logical structure for analysis"
   ]
  },
  {
   "cell_type": "code",
   "execution_count": 24,
   "metadata": {},
   "outputs": [],
   "source": [
    "# convert from dict to data frame\n",
    "df_pv_mobile_app = pd.DataFrame.from_dict(pv_mobile_app['items']) \n",
    "\n",
    "# trim the columns from data frame to keep timestamp and count\n",
    "df_pv_mobile_app = df_pv_mobile_app.drop(['project', 'access', 'agent', 'granularity'], axis = 1)\n",
    "\n",
    "# rename the columns in dataframe. using timestamp as a unique key for merging later\n",
    "df_pv_mobile_app.columns = ['UniqueID', 'pageview_mobile_app_views']"
   ]
  },
  {
   "cell_type": "markdown",
   "metadata": {},
   "source": [
    "After we have all five data frames in a good structure, we can merge them into the final format\n",
    "\n",
    "**pagecount:**\n",
    "  - df_pc_desktop\n",
    "  - df_pc_mobile\n",
    "  \n",
    "== > we will merge these two data frame and then add the total views column for pagecount\n",
    "  \n",
    "  \n",
    "**pageview:**  \n",
    "  - df_pv_desktop\n",
    "  - df_pv_mobile_web\n",
    "  - df_pv_mobile_app\n",
    "  \n",
    "== > we will merge two mobile data frame into one total mobile and then we merge desktop and mobile into one data frame. Finally we addd the total views column for pageview\n"
   ]
  },
  {
   "cell_type": "markdown",
   "metadata": {},
   "source": [
    "### MERGING Pagecount"
   ]
  },
  {
   "cell_type": "markdown",
   "metadata": {},
   "source": [
    "Using pandas to merger with outer join between pc_desktop and pc_mobile"
   ]
  },
  {
   "cell_type": "code",
   "execution_count": 25,
   "metadata": {},
   "outputs": [],
   "source": [
    "# using UniqueID (aka timestamp) as the primary key\n",
    "df_pc_all = pd.merge(df_pc_desktop, df_pc_mobile, on = 'UniqueID', how = 'outer', indicator=True)"
   ]
  },
  {
   "cell_type": "markdown",
   "metadata": {},
   "source": [
    "Reformat the values that are empty (NaN from the outer join) to be 0"
   ]
  },
  {
   "cell_type": "code",
   "execution_count": 26,
   "metadata": {},
   "outputs": [],
   "source": [
    "# replace NaN with 0\n",
    "df_pc_all['pagecount_desktop_views'] = df_pc_all['pagecount_desktop_views'].fillna(0)\n",
    "df_pc_all['pagecount_mobile_views'] = df_pc_all['pagecount_mobile_views'].fillna(0)"
   ]
  },
  {
   "cell_type": "markdown",
   "metadata": {},
   "source": [
    "Compute the total pagecount view and add it into the current data frame"
   ]
  },
  {
   "cell_type": "code",
   "execution_count": 27,
   "metadata": {},
   "outputs": [],
   "source": [
    "# Add the column of total pagecount view\n",
    "df_pc_all['pagecount_all_views'] = df_pc_all['pagecount_desktop_views'] + df_pc_all['pagecount_mobile_views']"
   ]
  },
  {
   "cell_type": "markdown",
   "metadata": {},
   "source": [
    "Finally, we reorder the columns to have a logical order format for pagecount view. This will give us all information we need for pagecount."
   ]
  },
  {
   "cell_type": "code",
   "execution_count": 28,
   "metadata": {},
   "outputs": [],
   "source": [
    "# Reorder the columns of the data frame\n",
    "df_pc_all = df_pc_all.reindex(columns = ['UniqueID', \n",
    "                                         'pagecount_all_views', \n",
    "                                         'pagecount_desktop_views', \n",
    "                                         'pagecount_mobile_views'])"
   ]
  },
  {
   "cell_type": "markdown",
   "metadata": {},
   "source": [
    "### MERGING Pageview"
   ]
  },
  {
   "cell_type": "markdown",
   "metadata": {},
   "source": [
    "Using pandas to merger with outer join between pv_mobileweb and pv_mobileapp"
   ]
  },
  {
   "cell_type": "code",
   "execution_count": 29,
   "metadata": {},
   "outputs": [],
   "source": [
    "# using UniqueID (aka timestamp) as the primary key\n",
    "df_pv_mobile = pd.merge(df_pv_mobile_web, df_pv_mobile_app, on = 'UniqueID', how = 'outer', indicator=True)"
   ]
  },
  {
   "cell_type": "markdown",
   "metadata": {},
   "source": [
    "Compute the total pageview mobile view and add it into the current data frame.\n",
    "Then we will remove these two mobile-web and mobile-app columns from the data frame."
   ]
  },
  {
   "cell_type": "code",
   "execution_count": 30,
   "metadata": {},
   "outputs": [],
   "source": [
    "# Add the column of total pageview mobile view\n",
    "df_pv_mobile['pageview_mobile_views'] = df_pv_mobile['pageview_mobile_web_views'] + df_pv_mobile['pageview_mobile_app_views']\n",
    "\n",
    "# trim the columns from data frame to keep timestamp and count\n",
    "df_pv_mobile = df_pv_mobile.drop(['pageview_mobile_web_views', \n",
    "                                  'pageview_mobile_app_views', \n",
    "                                  '_merge'], axis = 1)"
   ]
  },
  {
   "cell_type": "markdown",
   "metadata": {},
   "source": [
    "Now we will continue to merge the desktop view and mobile view of pageview. Using pandas to merger with outer join between them"
   ]
  },
  {
   "cell_type": "code",
   "execution_count": 31,
   "metadata": {},
   "outputs": [],
   "source": [
    "# using UniqueID (aka timestamp) as the primary key\n",
    "df_pv_all = pd.merge(df_pv_desktop, df_pv_mobile, on = 'UniqueID', how = 'outer', indicator=True)"
   ]
  },
  {
   "cell_type": "markdown",
   "metadata": {},
   "source": [
    "Reformat the values that are empty (NaN from the outer join) to be 0"
   ]
  },
  {
   "cell_type": "code",
   "execution_count": 32,
   "metadata": {},
   "outputs": [],
   "source": [
    "# replace NaN with 0\n",
    "df_pv_all['pageview_desktop_views'] = df_pv_all['pageview_desktop_views'].fillna(0)\n",
    "df_pv_all['pageview_mobile_views'] = df_pv_all['pageview_mobile_views'].fillna(0)"
   ]
  },
  {
   "cell_type": "markdown",
   "metadata": {},
   "source": [
    "Compute the total pageview view and add it into the current data frame"
   ]
  },
  {
   "cell_type": "code",
   "execution_count": 33,
   "metadata": {},
   "outputs": [],
   "source": [
    "# Add the column of total pageview all\n",
    "df_pv_all['pageview_all_views'] = df_pv_all['pageview_desktop_views'] + df_pv_all['pageview_mobile_views']"
   ]
  },
  {
   "cell_type": "markdown",
   "metadata": {},
   "source": [
    "Finally, we reorder the columns to have a logical order format for pageview view. This will give us all information we need for pageview. "
   ]
  },
  {
   "cell_type": "code",
   "execution_count": 34,
   "metadata": {},
   "outputs": [],
   "source": [
    "# Reorder the columns of the data frame\n",
    "df_pv_all = df_pv_all.reindex(columns = ['UniqueID', \n",
    "                                         'pageview_all_views', \n",
    "                                         'pageview_desktop_views', \n",
    "                                         'pageview_mobile_views'])"
   ]
  },
  {
   "cell_type": "markdown",
   "metadata": {},
   "source": [
    "### MERGING Pagecount and Pageview\n",
    "Merge df_pc_all  and  df_pv_all into one final data frame with the outer join. This will provide the final results we want."
   ]
  },
  {
   "cell_type": "code",
   "execution_count": 35,
   "metadata": {},
   "outputs": [],
   "source": [
    "# using UniqueID (aka timestamp) as the primary key\n",
    "df_final = pd.merge(df_pc_all, df_pv_all, on = 'UniqueID', how = 'outer', indicator=True)"
   ]
  },
  {
   "cell_type": "markdown",
   "metadata": {},
   "source": [
    "With all the column data fields available in the final version of the data frame. We will need to do one more step to format NaN to 0 after the final merging process between df_pc_all and df_pv_all"
   ]
  },
  {
   "cell_type": "code",
   "execution_count": 36,
   "metadata": {},
   "outputs": [],
   "source": [
    "# replace NaN with 0\n",
    "df_final['pagecount_all_views'] = df_final['pagecount_all_views'].fillna(0)\n",
    "df_final['pagecount_desktop_views'] = df_final['pagecount_desktop_views'].fillna(0)\n",
    "df_final['pagecount_mobile_views'] = df_final['pagecount_mobile_views'].fillna(0)\n",
    "df_final['pageview_all_views'] = df_final['pageview_all_views'].fillna(0)\n",
    "df_final['pageview_desktop_views'] = df_final['pageview_desktop_views'].fillna(0)\n",
    "df_final['pageview_mobile_views'] = df_final['pageview_mobile_views'].fillna(0)"
   ]
  },
  {
   "cell_type": "markdown",
   "metadata": {},
   "source": [
    "After using the UniqueID as a primary key for merging, we dont need this UniqueID anymore going forward. We can now split it into two separate columns: year and month. Then we can drop it the UniqueID from the data frame"
   ]
  },
  {
   "cell_type": "code",
   "execution_count": 37,
   "metadata": {},
   "outputs": [],
   "source": [
    "# Split the UniqueID (aka timestamp) into year and month columns\n",
    "df_final['year'] = df_final['UniqueID'].str[:4]\n",
    "df_final['month'] = df_final['UniqueID'].str[4:6]\n",
    "\n",
    "# Clean up the dataframe (remove the unique key, and indicator column)\n",
    "df_final = df_final.drop(['UniqueID', '_merge'], axis = 1)"
   ]
  },
  {
   "cell_type": "markdown",
   "metadata": {},
   "source": [
    "The final data frame is almost there. We just need to reorder the columns to have a consistent look in a logical way for process thinking: Year, Month, then pagecount (all, desktop, mobile), and pageview (all, desktop, mobile)"
   ]
  },
  {
   "cell_type": "code",
   "execution_count": 38,
   "metadata": {},
   "outputs": [],
   "source": [
    "# Reorder the columns of the data frame\n",
    "df_final = df_final.reindex(columns = ['year',\n",
    "                                       'month',\n",
    "                                       'pagecount_all_views',\n",
    "                                       'pagecount_desktop_views',\n",
    "                                       'pagecount_mobile_views',\n",
    "                                       'pageview_all_views', \n",
    "                                       'pageview_desktop_views', \n",
    "                                       'pageview_mobile_views'])"
   ]
  },
  {
   "cell_type": "markdown",
   "metadata": {},
   "source": [
    "Now we have th final clean data structure that is exactly the format from the assignment requirement. We can now save this data into a CSV file.\n",
    "\n",
    "Note: my CSV file is saved into the same working directory of my Jupyer notebook. This location path will be different from your machine, so please feel free to change the directory path to meet your system."
   ]
  },
  {
   "cell_type": "code",
   "execution_count": 39,
   "metadata": {},
   "outputs": [],
   "source": [
    "# Save final data frame to an csv file\n",
    "df_final.to_csv (r'en-wikipedia_traffic_200801-202008.csv', index = False, header=True)"
   ]
  },
  {
   "cell_type": "markdown",
   "metadata": {},
   "source": [
    "STEP 3: ANALYZE THE DATA\n",
    "-----------------------------------------"
   ]
  },
  {
   "cell_type": "markdown",
   "metadata": {},
   "source": [
    "In this step 3, we will finally create a chart visualization based on the final data CSV file we generate from previous step.\n",
    "\n",
    "The visualization will track three traffic metrics:\n",
    "- Mobile traffic\n",
    "- Desktop traffic\n",
    "- All traffic (desktop + mobile)\n",
    "\n",
    "There are also customed format to show the distinction between pagecount (dash line) and pageview (solid line)\n",
    "\n",
    "All the column fields from the final dataset are mapped on the same scale to ensure its correctness. Also, the chart will have the extra information for viewers: title, units, axis values, and legend"
   ]
  },
  {
   "cell_type": "markdown",
   "metadata": {},
   "source": [
    "-----------------------------------------------------------------------------------------------------------------------------"
   ]
  },
  {
   "cell_type": "markdown",
   "metadata": {},
   "source": [
    "We can use the final result from CSV file to plot the visualization. Let's loading the CSV into the Python "
   ]
  },
  {
   "cell_type": "code",
   "execution_count": 40,
   "metadata": {},
   "outputs": [],
   "source": [
    "# Loading the final data from CSV to make a visualization chart\n",
    "data = pd.read_csv('en-wikipedia_traffic_200801-202008.csv')"
   ]
  },
  {
   "cell_type": "markdown",
   "metadata": {},
   "source": [
    "Below are the series of step to plot the chart as well as the format to make it an insightful chart\n",
    "\n",
    "Tasks that i performed:\n",
    "1. Set up the time series structure serving as an index for generating continuous time series values\n",
    "\n",
    "2. Remember from step 2 earlier, we format the value as 0 for the columnd where there are no view. When we generate the chart in step 3, these 0 values will display on the chart and make it a busy chart. We dont want to plot the 0 values because they are not significant. One way is to assign the 0 value as nan so that the plot will filter them out.\n",
    "\n",
    "3. Plot the chart\n",
    "\n",
    "4. Add additional components on the visualization: title, comment, legend, grid lines.\n",
    "\n",
    "5. Enhancement for clean and elegant visual (data labels on x and y axis)\n",
    "   - x axis: Instead of displaying every single year on the plot which makes it crowded, i display the years in interval of 2. As you can see, the visual is clean and elegant.\n",
    "   \n",
    "   - y axis: The number of traffic views is very big (10 digits value). Ex: Display the value like 5000000000 on the y axis is a terrible approach. One way we can display it like 5000K, 6000K, 7000K etc. The other way, we can shorten the value on the y axis and have the unit value (1e10) on top. I choose the later since it makes the chart cleaner in my view."
   ]
  },
  {
   "cell_type": "code",
   "execution_count": 42,
   "metadata": {
    "scrolled": false
   },
   "outputs": [
    {
     "data": {
      "image/png": "[encoded data removed]",
      "text/plain": [
       "<Figure size 1440x720 with 1 Axes>"
      ]
     },
     "metadata": {
      "needs_background": "light"
     },
     "output_type": "display_data"
    }
   ],
   "source": [
    "# Create a time series value to have the unique value serving as an index for our continous plot\n",
    "time_series = data['month'].map(str) + '-' + data['year'].map(str)\n",
    "\n",
    "# Format the time series as \"month-year\" for continuous data points\n",
    "time_series = pd.to_datetime(time_series, format='%m-%Y')\n",
    "\n",
    "# Set up the plot and its size\n",
    "fig, ax = plt.subplots(figsize=(20, 10))\n",
    "\n",
    "# Format the label on the x and y axis\n",
    "plt.rc('ytick', labelsize=20) \n",
    "plt.rc('xtick', labelsize=20) \n",
    "\n",
    "# Pagecount Desktop View: Using numpy library to format the 0 values and then plot the chart\n",
    "df2 = data.copy()\n",
    "df2[df2.pagecount_desktop_views <= 0] = np.nan\n",
    "plt.plot(time_series, df2.pagecount_desktop_views, linestyle='dashed', color='green', label='main site')\n",
    "\n",
    "# Pagecount Mobile View: Using numpy library to format the 0 values and then plot the chart\n",
    "df3 = data.copy()\n",
    "df3[df3.pagecount_mobile_views <= 0] = np.nan\n",
    "plt.plot(time_series, df3.pagecount_mobile_views, linestyle='dashed', color='blue', label='mobile site')\n",
    "\n",
    "# Pagecount All View: Using numpy library to format the 0 values and then plot the chart\n",
    "df1 = data.copy()\n",
    "df1[df1.pagecount_all_views <= 0] = np.nan\n",
    "plt.plot(time_series, df1.pagecount_all_views, linestyle='dashed', color='black', label='total' )\n",
    "\n",
    "# Pageview All View: Using numpy library to format the 0 values and then plot the chart\n",
    "df4 = data.copy()\n",
    "df4[df4.pageview_all_views <= 0] = np.nan\n",
    "plt.plot(time_series, df4.pageview_all_views, linestyle='solid', color='black')\n",
    "\n",
    "# Pageview Desktop View: Using numpy library to format the 0 values and then plot the chart\n",
    "df5 = data.copy()\n",
    "df5[df5.pageview_desktop_views <= 0] = np.nan\n",
    "plt.plot(time_series, df5.pageview_desktop_views, linestyle='solid', color='green')\n",
    "\n",
    "# Pageview Mobile View: Using numpy library to format the 0 values and then plot the chart\n",
    "df6 = data.copy()\n",
    "df6[df6.pageview_mobile_views <= 0] = np.nan\n",
    "plt.plot(time_series, df6.pageview_mobile_views, linestyle='solid', color='blue')\n",
    "\n",
    "# Add the title to the chart\n",
    "fig.suptitle('Page Views on English Wikipedia (x 10,000,000,000)', size=20) \n",
    "\n",
    "# Show the grid lines on the chart\n",
    "plt.grid()\n",
    "\n",
    "# Format the axis to start at the 0\n",
    "plt.margins(x=0)\n",
    "\n",
    "# Add the legend to the chart\n",
    "plt.legend(loc= 'upper left', prop={'size':18}, bbox_to_anchor=(0,1))\n",
    "\n",
    "# Add the comment at the bottom of the chart\n",
    "txt=\"May 2015: a new pageview definition took effect, which eliminated all crawler traffic. Solid lines mark new definition\"\n",
    "plt.figtext(0.5, 0.01, txt, wrap=True, horizontalalignment='center', fontsize=18, color='red')\n",
    "\n",
    "# Save the plot into a JPG picture file. The file will be saved in the same working directory of my Jupyter notebook.\n",
    "# The path location will be different on your machine. Feel free to update the directory to your choice.\n",
    "plt.savefig('A1_final_visualization.jpg', bbox_inches='tight', dpi=80)\n",
    "\n",
    "plt.show();"
   ]
  },
  {
   "cell_type": "markdown",
   "metadata": {},
   "source": [
    "**Final thoughts:**\n",
    "\n",
    "By using JSON file with the correct **'start' and 'end'** values as i mentioned earlier, the final visualization is looking similar to the sample one from the assignment.\n",
    "\n",
    "If you follow according to this Jupyter notebook, you will produce the same result like i did. "
   ]
  },
  {
   "cell_type": "code",
   "execution_count": null,
   "metadata": {},
   "outputs": [],
   "source": []
  }
 ],
 "metadata": {
  "kernelspec": {
   "display_name": "Python 3",
   "language": "python",
   "name": "python3"
  },
  "language_info": {
   "codemirror_mode": {
    "name": "ipython",
    "version": 3
   },
   "file_extension": ".py",
   "mimetype": "text/x-python",
   "name": "python",
   "nbconvert_exporter": "python",
   "pygments_lexer": "ipython3",
   "version": "3.8.3"
  }
 },
 "nbformat": 4,
 "nbformat_minor": 4
}
