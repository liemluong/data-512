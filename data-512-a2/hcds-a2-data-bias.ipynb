{
 "cells": [
  {
   "cell_type": "markdown",
   "metadata": {},
   "source": [
    "## University of Washington | DATA 512 - Human Centered Data Science | Autumn 2020\n",
    "\n",
    "### Assignment 2: Bias in Data"
   ]
  },
  {
   "cell_type": "markdown",
   "metadata": {},
   "source": [
    "--------------------"
   ]
  },
  {
   "cell_type": "markdown",
   "metadata": {},
   "source": [
    "### Summary\n",
    "\n",
    "The objective of this assignment is to examine the potential sources of bias in a corpus of human-annotated data and describe some implications of those biases."
   ]
  },
  {
   "cell_type": "markdown",
   "metadata": {},
   "source": [
    "### Data Source\n",
    "\n",
    "The data we use in this assignment is \"Wikipedia Talk Labels\" which you can download from this Figshare page:\n",
    "https://figshare.com/projects/Wikipedia_Talk/16731\n",
    "\n",
    "There are three separate datasets:\n",
    "- Toxicity\n",
    "- Aggression\n",
    "- Personal Attacks\n",
    "\n",
    "Each individual dataset contains three separate TSV files: annotations, annotated comments, and worker demographics. You can download these datasets and store on your project working directory."
   ]
  },
  {
   "cell_type": "markdown",
   "metadata": {},
   "source": [
    "### Motivation for the analysis\n",
    "\n",
    "Social bias online has been gaining steam in the last five years. The more interaction users perform online, the larger data it produces with comments include toxicity and aggression. Therefore,  i am interested in knowing more about the bias in these two areas: toxicity and aggression.\n",
    "\n",
    "There are two hypothesis/questions that i want to find out:\n",
    "- Is there a bias relationships between worker demographics and labeling behavior in toxicity?\n",
    "- Is there a bias relationships between worker demographics and labeling behavior in aggression?\n"
   ]
  },
  {
   "cell_type": "markdown",
   "metadata": {},
   "source": [
    "-----------------------------------------------"
   ]
  },
  {
   "cell_type": "markdown",
   "metadata": {},
   "source": [
    "# Part 1: Exploratory Data Analysis (EDA)"
   ]
  },
  {
   "cell_type": "markdown",
   "metadata": {},
   "source": [
    "Import the libraries from Python"
   ]
  },
  {
   "cell_type": "code",
   "execution_count": 1,
   "metadata": {},
   "outputs": [],
   "source": [
    "import csv\n",
    "import pandas as pd\n",
    "import numpy as np\n",
    "import seaborn as sn\n",
    "import matplotlib.pyplot as plt"
   ]
  },
  {
   "cell_type": "markdown",
   "metadata": {},
   "source": [
    "## Analysis: Toxicity Dataset"
   ]
  },
  {
   "cell_type": "markdown",
   "metadata": {},
   "source": [
    "### Get Data & Clean Up"
   ]
  },
  {
   "cell_type": "markdown",
   "metadata": {},
   "source": [
    "Get Toxicity data files into data frames. For code simplification, we use annotation as follow:\n",
    "\n",
    "- ann = annotations\n",
    "- com = annotated comments\n",
    "- dem = worker demographics"
   ]
  },
  {
   "cell_type": "code",
   "execution_count": 2,
   "metadata": {},
   "outputs": [],
   "source": [
    "df_toxicity_ann = pd.read_csv('toxicity_annotations.tsv', sep = '\\t')\n",
    "\n",
    "df_toxicity_com = pd.read_csv('toxicity_annotated_comments.tsv', sep = '\\t')\n",
    "\n",
    "df_toxicity_dem = pd.read_csv('toxicity_worker_demographics.tsv', sep = '\\t')"
   ]
  },
  {
   "cell_type": "markdown",
   "metadata": {},
   "source": [
    "Perform visual inspection of the data"
   ]
  },
  {
   "cell_type": "code",
   "execution_count": 3,
   "metadata": {},
   "outputs": [
    {
     "data": {
      "text/html": [
       "<div>\n",
       "<style scoped>\n",
       "    .dataframe tbody tr th:only-of-type {\n",
       "        vertical-align: middle;\n",
       "    }\n",
       "\n",
       "    .dataframe tbody tr th {\n",
       "        vertical-align: top;\n",
       "    }\n",
       "\n",
       "    .dataframe thead th {\n",
       "        text-align: right;\n",
       "    }\n",
       "</style>\n",
       "<table border=\"1\" class=\"dataframe\">\n",
       "  <thead>\n",
       "    <tr style=\"text-align: right;\">\n",
       "      <th></th>\n",
       "      <th>rev_id</th>\n",
       "      <th>worker_id</th>\n",
       "      <th>toxicity</th>\n",
       "      <th>toxicity_score</th>\n",
       "    </tr>\n",
       "  </thead>\n",
       "  <tbody>\n",
       "    <tr>\n",
       "      <th>0</th>\n",
       "      <td>2232.0</td>\n",
       "      <td>723</td>\n",
       "      <td>0</td>\n",
       "      <td>0.0</td>\n",
       "    </tr>\n",
       "    <tr>\n",
       "      <th>1</th>\n",
       "      <td>2232.0</td>\n",
       "      <td>4000</td>\n",
       "      <td>0</td>\n",
       "      <td>0.0</td>\n",
       "    </tr>\n",
       "    <tr>\n",
       "      <th>2</th>\n",
       "      <td>2232.0</td>\n",
       "      <td>3989</td>\n",
       "      <td>0</td>\n",
       "      <td>1.0</td>\n",
       "    </tr>\n",
       "    <tr>\n",
       "      <th>3</th>\n",
       "      <td>2232.0</td>\n",
       "      <td>3341</td>\n",
       "      <td>0</td>\n",
       "      <td>0.0</td>\n",
       "    </tr>\n",
       "    <tr>\n",
       "      <th>4</th>\n",
       "      <td>2232.0</td>\n",
       "      <td>1574</td>\n",
       "      <td>0</td>\n",
       "      <td>1.0</td>\n",
       "    </tr>\n",
       "  </tbody>\n",
       "</table>\n",
       "</div>"
      ],
      "text/plain": [
       "   rev_id  worker_id  toxicity  toxicity_score\n",
       "0  2232.0        723         0             0.0\n",
       "1  2232.0       4000         0             0.0\n",
       "2  2232.0       3989         0             1.0\n",
       "3  2232.0       3341         0             0.0\n",
       "4  2232.0       1574         0             1.0"
      ]
     },
     "execution_count": 3,
     "metadata": {},
     "output_type": "execute_result"
    }
   ],
   "source": [
    "df_toxicity_ann.head()"
   ]
  },
  {
   "cell_type": "code",
   "execution_count": 4,
   "metadata": {},
   "outputs": [
    {
     "data": {
      "text/html": [
       "<div>\n",
       "<style scoped>\n",
       "    .dataframe tbody tr th:only-of-type {\n",
       "        vertical-align: middle;\n",
       "    }\n",
       "\n",
       "    .dataframe tbody tr th {\n",
       "        vertical-align: top;\n",
       "    }\n",
       "\n",
       "    .dataframe thead th {\n",
       "        text-align: right;\n",
       "    }\n",
       "</style>\n",
       "<table border=\"1\" class=\"dataframe\">\n",
       "  <thead>\n",
       "    <tr style=\"text-align: right;\">\n",
       "      <th></th>\n",
       "      <th>rev_id</th>\n",
       "      <th>comment</th>\n",
       "      <th>year</th>\n",
       "      <th>logged_in</th>\n",
       "      <th>ns</th>\n",
       "      <th>sample</th>\n",
       "      <th>split</th>\n",
       "    </tr>\n",
       "  </thead>\n",
       "  <tbody>\n",
       "    <tr>\n",
       "      <th>0</th>\n",
       "      <td>2232.0</td>\n",
       "      <td>This:NEWLINE_TOKEN:One can make an analogy in ...</td>\n",
       "      <td>2002</td>\n",
       "      <td>True</td>\n",
       "      <td>article</td>\n",
       "      <td>random</td>\n",
       "      <td>train</td>\n",
       "    </tr>\n",
       "    <tr>\n",
       "      <th>1</th>\n",
       "      <td>4216.0</td>\n",
       "      <td>`NEWLINE_TOKENNEWLINE_TOKEN:Clarification for ...</td>\n",
       "      <td>2002</td>\n",
       "      <td>True</td>\n",
       "      <td>user</td>\n",
       "      <td>random</td>\n",
       "      <td>train</td>\n",
       "    </tr>\n",
       "    <tr>\n",
       "      <th>2</th>\n",
       "      <td>8953.0</td>\n",
       "      <td>Elected or Electoral? JHK</td>\n",
       "      <td>2002</td>\n",
       "      <td>False</td>\n",
       "      <td>article</td>\n",
       "      <td>random</td>\n",
       "      <td>test</td>\n",
       "    </tr>\n",
       "    <tr>\n",
       "      <th>3</th>\n",
       "      <td>26547.0</td>\n",
       "      <td>`This is such a fun entry.   DevotchkaNEWLINE_...</td>\n",
       "      <td>2002</td>\n",
       "      <td>True</td>\n",
       "      <td>article</td>\n",
       "      <td>random</td>\n",
       "      <td>train</td>\n",
       "    </tr>\n",
       "    <tr>\n",
       "      <th>4</th>\n",
       "      <td>28959.0</td>\n",
       "      <td>Please relate the ozone hole to increases in c...</td>\n",
       "      <td>2002</td>\n",
       "      <td>True</td>\n",
       "      <td>article</td>\n",
       "      <td>random</td>\n",
       "      <td>test</td>\n",
       "    </tr>\n",
       "  </tbody>\n",
       "</table>\n",
       "</div>"
      ],
      "text/plain": [
       "    rev_id                                            comment  year  \\\n",
       "0   2232.0  This:NEWLINE_TOKEN:One can make an analogy in ...  2002   \n",
       "1   4216.0  `NEWLINE_TOKENNEWLINE_TOKEN:Clarification for ...  2002   \n",
       "2   8953.0                          Elected or Electoral? JHK  2002   \n",
       "3  26547.0  `This is such a fun entry.   DevotchkaNEWLINE_...  2002   \n",
       "4  28959.0  Please relate the ozone hole to increases in c...  2002   \n",
       "\n",
       "   logged_in       ns  sample  split  \n",
       "0       True  article  random  train  \n",
       "1       True     user  random  train  \n",
       "2      False  article  random   test  \n",
       "3       True  article  random  train  \n",
       "4       True  article  random   test  "
      ]
     },
     "execution_count": 4,
     "metadata": {},
     "output_type": "execute_result"
    }
   ],
   "source": [
    "df_toxicity_com.head()"
   ]
  },
  {
   "cell_type": "code",
   "execution_count": 5,
   "metadata": {},
   "outputs": [
    {
     "data": {
      "text/html": [
       "<div>\n",
       "<style scoped>\n",
       "    .dataframe tbody tr th:only-of-type {\n",
       "        vertical-align: middle;\n",
       "    }\n",
       "\n",
       "    .dataframe tbody tr th {\n",
       "        vertical-align: top;\n",
       "    }\n",
       "\n",
       "    .dataframe thead th {\n",
       "        text-align: right;\n",
       "    }\n",
       "</style>\n",
       "<table border=\"1\" class=\"dataframe\">\n",
       "  <thead>\n",
       "    <tr style=\"text-align: right;\">\n",
       "      <th></th>\n",
       "      <th>worker_id</th>\n",
       "      <th>gender</th>\n",
       "      <th>english_first_language</th>\n",
       "      <th>age_group</th>\n",
       "      <th>education</th>\n",
       "    </tr>\n",
       "  </thead>\n",
       "  <tbody>\n",
       "    <tr>\n",
       "      <th>0</th>\n",
       "      <td>85</td>\n",
       "      <td>female</td>\n",
       "      <td>0</td>\n",
       "      <td>18-30</td>\n",
       "      <td>bachelors</td>\n",
       "    </tr>\n",
       "    <tr>\n",
       "      <th>1</th>\n",
       "      <td>1617</td>\n",
       "      <td>female</td>\n",
       "      <td>0</td>\n",
       "      <td>45-60</td>\n",
       "      <td>bachelors</td>\n",
       "    </tr>\n",
       "    <tr>\n",
       "      <th>2</th>\n",
       "      <td>1394</td>\n",
       "      <td>female</td>\n",
       "      <td>0</td>\n",
       "      <td>NaN</td>\n",
       "      <td>bachelors</td>\n",
       "    </tr>\n",
       "    <tr>\n",
       "      <th>3</th>\n",
       "      <td>311</td>\n",
       "      <td>male</td>\n",
       "      <td>0</td>\n",
       "      <td>30-45</td>\n",
       "      <td>bachelors</td>\n",
       "    </tr>\n",
       "    <tr>\n",
       "      <th>4</th>\n",
       "      <td>1980</td>\n",
       "      <td>male</td>\n",
       "      <td>0</td>\n",
       "      <td>45-60</td>\n",
       "      <td>masters</td>\n",
       "    </tr>\n",
       "  </tbody>\n",
       "</table>\n",
       "</div>"
      ],
      "text/plain": [
       "   worker_id  gender  english_first_language age_group  education\n",
       "0         85  female                       0     18-30  bachelors\n",
       "1       1617  female                       0     45-60  bachelors\n",
       "2       1394  female                       0       NaN  bachelors\n",
       "3        311    male                       0     30-45  bachelors\n",
       "4       1980    male                       0     45-60    masters"
      ]
     },
     "execution_count": 5,
     "metadata": {},
     "output_type": "execute_result"
    }
   ],
   "source": [
    "df_toxicity_dem.head()"
   ]
  },
  {
   "cell_type": "markdown",
   "metadata": {},
   "source": [
    "From observation, we see there are some data cleanning we need to do in order to have a clean data."
   ]
  },
  {
   "cell_type": "code",
   "execution_count": 6,
   "metadata": {},
   "outputs": [],
   "source": [
    "# Reformat the numeric values to remove the \".0\"\n",
    "df_toxicity_ann = df_toxicity_ann.astype(int)\n",
    "\n",
    "# Reformat the numeric values to remove the \".0\"\n",
    "df_toxicity_com['rev_id'] = df_toxicity_com['rev_id'].astype(int)\n",
    "\n",
    "# remove newline and tab tokens\n",
    "df_toxicity_com['comment'] = df_toxicity_com['comment'].apply(lambda x: x.replace(\"NEWLINE_TOKEN\", \" \"))\n",
    "df_toxicity_com['comment'] = df_toxicity_com['comment'].apply(lambda x: x.replace(\"TAB_TOKEN\", \" \"))"
   ]
  },
  {
   "cell_type": "markdown",
   "metadata": {},
   "source": [
    "### Descriptive Statistics Checking"
   ]
  },
  {
   "cell_type": "markdown",
   "metadata": {},
   "source": [
    "Checking total of unique records of three data files"
   ]
  },
  {
   "cell_type": "code",
   "execution_count": 7,
   "metadata": {},
   "outputs": [
    {
     "name": "stdout",
     "output_type": "stream",
     "text": [
      "Total annotations:  159686\n",
      "Total annotated comments:  159686\n",
      "Total workers:  3591\n"
     ]
    }
   ],
   "source": [
    "print(\"Total annotations: \", len(df_toxicity_ann['rev_id'].unique()))\n",
    "print(\"Total annotated comments: \", len(df_toxicity_com['rev_id'].unique()))\n",
    "print(\"Total workers: \", len(df_toxicity_dem['worker_id'].unique()))"
   ]
  },
  {
   "cell_type": "markdown",
   "metadata": {},
   "source": [
    "Since we are interested in question about demograpic, let's do a brief glance through key demographic data components"
   ]
  },
  {
   "cell_type": "markdown",
   "metadata": {},
   "source": [
    "**Gender distribution**"
   ]
  },
  {
   "cell_type": "code",
   "execution_count": 8,
   "metadata": {},
   "outputs": [
    {
     "data": {
      "text/plain": [
       "male      2327\n",
       "female    1263\n",
       "other        1\n",
       "Name: gender, dtype: int64"
      ]
     },
     "execution_count": 8,
     "metadata": {},
     "output_type": "execute_result"
    }
   ],
   "source": [
    "# Distribution table\n",
    "df_toxicity_dem['gender'].value_counts()"
   ]
  },
  {
   "cell_type": "markdown",
   "metadata": {},
   "source": [
    "*Comment 1: There is one worker does not identify as either male or female. This one \"other\" is  not significant in a whole schema and is a noise. So we need to remove it from the data frame*"
   ]
  },
  {
   "cell_type": "code",
   "execution_count": 9,
   "metadata": {},
   "outputs": [
    {
     "data": {
      "text/plain": [
       "male      2327\n",
       "female    1263\n",
       "Name: gender, dtype: int64"
      ]
     },
     "execution_count": 9,
     "metadata": {},
     "output_type": "execute_result"
    }
   ],
   "source": [
    "# Remove this one record for this unique worker\n",
    "df_toxicity_dem = df_toxicity_dem.drop(df_toxicity_dem[df_toxicity_dem.gender == 'other'].index)\n",
    "\n",
    "# Review the clean gender data\n",
    "df_toxicity_dem['gender'].value_counts()"
   ]
  },
  {
   "cell_type": "markdown",
   "metadata": {},
   "source": [
    "Let's look at the frequency table"
   ]
  },
  {
   "cell_type": "code",
   "execution_count": 10,
   "metadata": {},
   "outputs": [
    {
     "data": {
      "text/plain": [
       "male      0.648189\n",
       "female    0.351811\n",
       "Name: gender, dtype: float64"
      ]
     },
     "execution_count": 10,
     "metadata": {},
     "output_type": "execute_result"
    }
   ],
   "source": [
    "# Frequency table\n",
    "x1 = df_toxicity_dem['gender'].value_counts()\n",
    "x1 / x1.sum()"
   ]
  },
  {
   "cell_type": "markdown",
   "metadata": {},
   "source": [
    "*Comment 2: There are about **2X** number of male workers than female workers. Male workers account **64.8%**. This means the gender is not balanced among the workers. This factor shows a **BIAS** in annotating the toxicity comment because men and women have different perspective about toxicity.*"
   ]
  },
  {
   "cell_type": "markdown",
   "metadata": {},
   "source": [
    "**English first language distribution**"
   ]
  },
  {
   "cell_type": "code",
   "execution_count": 11,
   "metadata": {},
   "outputs": [
    {
     "data": {
      "text/plain": [
       "0    2924\n",
       "1     666\n",
       "Name: english_first_language, dtype: int64"
      ]
     },
     "execution_count": 11,
     "metadata": {},
     "output_type": "execute_result"
    }
   ],
   "source": [
    "# Distribution table\n",
    "df_toxicity_dem['english_first_language'].value_counts()"
   ]
  },
  {
   "cell_type": "markdown",
   "metadata": {},
   "source": [
    "Let's look at the frequency table"
   ]
  },
  {
   "cell_type": "code",
   "execution_count": 12,
   "metadata": {},
   "outputs": [
    {
     "data": {
      "text/plain": [
       "0    0.814485\n",
       "1    0.185515\n",
       "Name: english_first_language, dtype: float64"
      ]
     },
     "execution_count": 12,
     "metadata": {},
     "output_type": "execute_result"
    }
   ],
   "source": [
    "# Frequency table\n",
    "x2 = df_toxicity_dem['english_first_language'].value_counts()\n",
    "x2 / x2.sum()"
   ]
  },
  {
   "cell_type": "markdown",
   "metadata": {},
   "source": [
    "*Comment 3: The number of workers that don't have English as first language is about **4.4X** time more than the workers with English as first language (accounts **81.4%**). This is an important notice to mention in the analysis, this factor shows a **BIAS** because it impacts the judgement of worker to label the English comment as toxic or non-toxic*"
   ]
  },
  {
   "cell_type": "markdown",
   "metadata": {},
   "source": [
    "**Age group distribution**"
   ]
  },
  {
   "cell_type": "code",
   "execution_count": 13,
   "metadata": {},
   "outputs": [
    {
     "data": {
      "text/plain": [
       "18-30       1862\n",
       "30-45       1247\n",
       "45-60        296\n",
       "Under 18      78\n",
       "Over 60       30\n",
       "Name: age_group, dtype: int64"
      ]
     },
     "execution_count": 13,
     "metadata": {},
     "output_type": "execute_result"
    }
   ],
   "source": [
    "# Distribution table\n",
    "df_toxicity_dem['age_group'].value_counts()"
   ]
  },
  {
   "cell_type": "markdown",
   "metadata": {},
   "source": [
    "Let's look at the frequency table"
   ]
  },
  {
   "cell_type": "code",
   "execution_count": 14,
   "metadata": {},
   "outputs": [
    {
     "data": {
      "text/plain": [
       "18-30       0.530031\n",
       "30-45       0.354967\n",
       "45-60       0.084258\n",
       "Under 18    0.022203\n",
       "Over 60     0.008540\n",
       "Name: age_group, dtype: float64"
      ]
     },
     "execution_count": 14,
     "metadata": {},
     "output_type": "execute_result"
    }
   ],
   "source": [
    "# Frequency table\n",
    "x3 = df_toxicity_dem['age_group'].value_counts()\n",
    "x3 / x3.sum()"
   ]
  },
  {
   "cell_type": "markdown",
   "metadata": {},
   "source": [
    "*Comment 4: The age distribution of the workers who labelled the toxicity dataset shows that the vast majority of the data was labelled by people ages 18 - 45 which account **88%**. This is **BIAS** because the distribution is not equal across the age groups. We can see less representation for people who are older and younger than 45 and 18 respectively. Whether this is millenium generation, baby boom generation, generation X, etc. they each have different lived experiences which could affect their decision in what constitutes a toxic comment.*"
   ]
  },
  {
   "cell_type": "markdown",
   "metadata": {},
   "source": [
    "**Education distribution**"
   ]
  },
  {
   "cell_type": "code",
   "execution_count": 15,
   "metadata": {},
   "outputs": [
    {
     "data": {
      "text/plain": [
       "bachelors       1441\n",
       "hs              1025\n",
       "masters          546\n",
       "professional     441\n",
       "some              93\n",
       "doctorate         41\n",
       "none               3\n",
       "Name: education, dtype: int64"
      ]
     },
     "execution_count": 15,
     "metadata": {},
     "output_type": "execute_result"
    }
   ],
   "source": [
    "# Distribution table\n",
    "df_toxicity_dem['education'].value_counts()"
   ]
  },
  {
   "cell_type": "markdown",
   "metadata": {},
   "source": [
    "Let's look at the frequency table"
   ]
  },
  {
   "cell_type": "code",
   "execution_count": 16,
   "metadata": {},
   "outputs": [
    {
     "data": {
      "text/plain": [
       "bachelors       0.401393\n",
       "hs              0.285515\n",
       "masters         0.152089\n",
       "professional    0.122841\n",
       "some            0.025905\n",
       "doctorate       0.011421\n",
       "none            0.000836\n",
       "Name: education, dtype: float64"
      ]
     },
     "execution_count": 16,
     "metadata": {},
     "output_type": "execute_result"
    }
   ],
   "source": [
    "# Frequency table\n",
    "x4 = df_toxicity_dem['education'].value_counts()\n",
    "x4 / x4.sum()"
   ]
  },
  {
   "cell_type": "markdown",
   "metadata": {},
   "source": [
    "*Comment 5: We can see from the distribution that the higher education (bachelors + masters + doctorate = **56.5%**) which is more than half of the total worker education background. This is **BIAS** because different education background would impact the critical thinking and educational judgement on if the comment is toxic or not in this nature.*"
   ]
  },
  {
   "cell_type": "markdown",
   "metadata": {},
   "source": [
    "### MERGE DATA: demographic data + toxicity data\n",
    "\n",
    "Three separate data files are not helpful to unlock an insights. Therefore, we will merge all three data files into one final data frame. This will help us to see the relationship between data componnents"
   ]
  },
  {
   "cell_type": "code",
   "execution_count": 17,
   "metadata": {},
   "outputs": [],
   "source": [
    "# Merge the data frame of toxicity annotation and demographic worker\n",
    "df_toxicity_ann_dem = pd.merge(df_toxicity_ann, df_toxicity_dem, on = 'worker_id', how = 'outer')\n",
    "\n",
    "# Merge the result with the comment data frame\n",
    "df_toxicity_final = pd.merge(df_toxicity_ann_dem, df_toxicity_com, on = 'rev_id', how = 'outer')"
   ]
  },
  {
   "cell_type": "markdown",
   "metadata": {},
   "source": [
    "Viewing final data"
   ]
  },
  {
   "cell_type": "code",
   "execution_count": 18,
   "metadata": {
    "scrolled": true
   },
   "outputs": [
    {
     "data": {
      "text/html": [
       "<div>\n",
       "<style scoped>\n",
       "    .dataframe tbody tr th:only-of-type {\n",
       "        vertical-align: middle;\n",
       "    }\n",
       "\n",
       "    .dataframe tbody tr th {\n",
       "        vertical-align: top;\n",
       "    }\n",
       "\n",
       "    .dataframe thead th {\n",
       "        text-align: right;\n",
       "    }\n",
       "</style>\n",
       "<table border=\"1\" class=\"dataframe\">\n",
       "  <thead>\n",
       "    <tr style=\"text-align: right;\">\n",
       "      <th></th>\n",
       "      <th>rev_id</th>\n",
       "      <th>worker_id</th>\n",
       "      <th>toxicity</th>\n",
       "      <th>toxicity_score</th>\n",
       "      <th>gender</th>\n",
       "      <th>english_first_language</th>\n",
       "      <th>age_group</th>\n",
       "      <th>education</th>\n",
       "      <th>comment</th>\n",
       "      <th>year</th>\n",
       "      <th>logged_in</th>\n",
       "      <th>ns</th>\n",
       "      <th>sample</th>\n",
       "      <th>split</th>\n",
       "    </tr>\n",
       "  </thead>\n",
       "  <tbody>\n",
       "    <tr>\n",
       "      <th>0</th>\n",
       "      <td>2232</td>\n",
       "      <td>723</td>\n",
       "      <td>0</td>\n",
       "      <td>0</td>\n",
       "      <td>female</td>\n",
       "      <td>0.0</td>\n",
       "      <td>30-45</td>\n",
       "      <td>bachelors</td>\n",
       "      <td>This: :One can make an analogy in mathematical...</td>\n",
       "      <td>2002</td>\n",
       "      <td>True</td>\n",
       "      <td>article</td>\n",
       "      <td>random</td>\n",
       "      <td>train</td>\n",
       "    </tr>\n",
       "    <tr>\n",
       "      <th>1</th>\n",
       "      <td>2232</td>\n",
       "      <td>4000</td>\n",
       "      <td>0</td>\n",
       "      <td>0</td>\n",
       "      <td>male</td>\n",
       "      <td>1.0</td>\n",
       "      <td>18-30</td>\n",
       "      <td>hs</td>\n",
       "      <td>This: :One can make an analogy in mathematical...</td>\n",
       "      <td>2002</td>\n",
       "      <td>True</td>\n",
       "      <td>article</td>\n",
       "      <td>random</td>\n",
       "      <td>train</td>\n",
       "    </tr>\n",
       "    <tr>\n",
       "      <th>2</th>\n",
       "      <td>2232</td>\n",
       "      <td>3989</td>\n",
       "      <td>0</td>\n",
       "      <td>1</td>\n",
       "      <td>female</td>\n",
       "      <td>0.0</td>\n",
       "      <td>18-30</td>\n",
       "      <td>bachelors</td>\n",
       "      <td>This: :One can make an analogy in mathematical...</td>\n",
       "      <td>2002</td>\n",
       "      <td>True</td>\n",
       "      <td>article</td>\n",
       "      <td>random</td>\n",
       "      <td>train</td>\n",
       "    </tr>\n",
       "    <tr>\n",
       "      <th>3</th>\n",
       "      <td>2232</td>\n",
       "      <td>3341</td>\n",
       "      <td>0</td>\n",
       "      <td>0</td>\n",
       "      <td>NaN</td>\n",
       "      <td>NaN</td>\n",
       "      <td>NaN</td>\n",
       "      <td>NaN</td>\n",
       "      <td>This: :One can make an analogy in mathematical...</td>\n",
       "      <td>2002</td>\n",
       "      <td>True</td>\n",
       "      <td>article</td>\n",
       "      <td>random</td>\n",
       "      <td>train</td>\n",
       "    </tr>\n",
       "    <tr>\n",
       "      <th>4</th>\n",
       "      <td>2232</td>\n",
       "      <td>1574</td>\n",
       "      <td>0</td>\n",
       "      <td>1</td>\n",
       "      <td>female</td>\n",
       "      <td>0.0</td>\n",
       "      <td>30-45</td>\n",
       "      <td>bachelors</td>\n",
       "      <td>This: :One can make an analogy in mathematical...</td>\n",
       "      <td>2002</td>\n",
       "      <td>True</td>\n",
       "      <td>article</td>\n",
       "      <td>random</td>\n",
       "      <td>train</td>\n",
       "    </tr>\n",
       "  </tbody>\n",
       "</table>\n",
       "</div>"
      ],
      "text/plain": [
       "   rev_id  worker_id  toxicity  toxicity_score  gender  \\\n",
       "0    2232        723         0               0  female   \n",
       "1    2232       4000         0               0    male   \n",
       "2    2232       3989         0               1  female   \n",
       "3    2232       3341         0               0     NaN   \n",
       "4    2232       1574         0               1  female   \n",
       "\n",
       "   english_first_language age_group  education  \\\n",
       "0                     0.0     30-45  bachelors   \n",
       "1                     1.0     18-30         hs   \n",
       "2                     0.0     18-30  bachelors   \n",
       "3                     NaN       NaN        NaN   \n",
       "4                     0.0     30-45  bachelors   \n",
       "\n",
       "                                             comment  year  logged_in  \\\n",
       "0  This: :One can make an analogy in mathematical...  2002       True   \n",
       "1  This: :One can make an analogy in mathematical...  2002       True   \n",
       "2  This: :One can make an analogy in mathematical...  2002       True   \n",
       "3  This: :One can make an analogy in mathematical...  2002       True   \n",
       "4  This: :One can make an analogy in mathematical...  2002       True   \n",
       "\n",
       "        ns  sample  split  \n",
       "0  article  random  train  \n",
       "1  article  random  train  \n",
       "2  article  random  train  \n",
       "3  article  random  train  \n",
       "4  article  random  train  "
      ]
     },
     "execution_count": 18,
     "metadata": {},
     "output_type": "execute_result"
    }
   ],
   "source": [
    "df_toxicity_final.head()"
   ]
  },
  {
   "cell_type": "markdown",
   "metadata": {},
   "source": [
    "From observation of dataset, there are some NaN values. Let's find out in the dataset about these NaN for these workers"
   ]
  },
  {
   "cell_type": "code",
   "execution_count": 19,
   "metadata": {},
   "outputs": [
    {
     "data": {
      "text/plain": [
       "rev_id                         0\n",
       "worker_id                      0\n",
       "toxicity                       0\n",
       "toxicity_score                 0\n",
       "gender                    251692\n",
       "english_first_language    251692\n",
       "age_group                 281006\n",
       "education                 251692\n",
       "comment                        0\n",
       "year                           0\n",
       "logged_in                      0\n",
       "ns                             0\n",
       "sample                         0\n",
       "split                          0\n",
       "dtype: int64"
      ]
     },
     "execution_count": 19,
     "metadata": {},
     "output_type": "execute_result"
    }
   ],
   "source": [
    "# count the number of NaN value from the final dataset\n",
    "toxicity_count_NaN = df_toxicity_final.isnull().sum()\n",
    "toxicity_count_NaN"
   ]
  },
  {
   "cell_type": "markdown",
   "metadata": {},
   "source": [
    "*Comment 6: there are four places the NaN values show up in the merge dataset. Any data with NaN in the dataset won't be helpful and can create a distortion which impacts the data quality overall. We need to drop these NaN (not a number) from the data frame since it won't be helpful for the analysis*"
   ]
  },
  {
   "cell_type": "code",
   "execution_count": 20,
   "metadata": {},
   "outputs": [
    {
     "data": {
      "text/html": [
       "<div>\n",
       "<style scoped>\n",
       "    .dataframe tbody tr th:only-of-type {\n",
       "        vertical-align: middle;\n",
       "    }\n",
       "\n",
       "    .dataframe tbody tr th {\n",
       "        vertical-align: top;\n",
       "    }\n",
       "\n",
       "    .dataframe thead th {\n",
       "        text-align: right;\n",
       "    }\n",
       "</style>\n",
       "<table border=\"1\" class=\"dataframe\">\n",
       "  <thead>\n",
       "    <tr style=\"text-align: right;\">\n",
       "      <th></th>\n",
       "      <th>rev_id</th>\n",
       "      <th>worker_id</th>\n",
       "      <th>toxicity</th>\n",
       "      <th>toxicity_score</th>\n",
       "      <th>gender</th>\n",
       "      <th>english_first_language</th>\n",
       "      <th>age_group</th>\n",
       "      <th>education</th>\n",
       "      <th>comment</th>\n",
       "      <th>year</th>\n",
       "      <th>logged_in</th>\n",
       "      <th>ns</th>\n",
       "      <th>sample</th>\n",
       "      <th>split</th>\n",
       "    </tr>\n",
       "  </thead>\n",
       "  <tbody>\n",
       "    <tr>\n",
       "      <th>0</th>\n",
       "      <td>2232</td>\n",
       "      <td>723</td>\n",
       "      <td>0</td>\n",
       "      <td>0</td>\n",
       "      <td>female</td>\n",
       "      <td>0.0</td>\n",
       "      <td>30-45</td>\n",
       "      <td>bachelors</td>\n",
       "      <td>This: :One can make an analogy in mathematical...</td>\n",
       "      <td>2002</td>\n",
       "      <td>True</td>\n",
       "      <td>article</td>\n",
       "      <td>random</td>\n",
       "      <td>train</td>\n",
       "    </tr>\n",
       "    <tr>\n",
       "      <th>1</th>\n",
       "      <td>2232</td>\n",
       "      <td>4000</td>\n",
       "      <td>0</td>\n",
       "      <td>0</td>\n",
       "      <td>male</td>\n",
       "      <td>1.0</td>\n",
       "      <td>18-30</td>\n",
       "      <td>hs</td>\n",
       "      <td>This: :One can make an analogy in mathematical...</td>\n",
       "      <td>2002</td>\n",
       "      <td>True</td>\n",
       "      <td>article</td>\n",
       "      <td>random</td>\n",
       "      <td>train</td>\n",
       "    </tr>\n",
       "    <tr>\n",
       "      <th>2</th>\n",
       "      <td>2232</td>\n",
       "      <td>3989</td>\n",
       "      <td>0</td>\n",
       "      <td>1</td>\n",
       "      <td>female</td>\n",
       "      <td>0.0</td>\n",
       "      <td>18-30</td>\n",
       "      <td>bachelors</td>\n",
       "      <td>This: :One can make an analogy in mathematical...</td>\n",
       "      <td>2002</td>\n",
       "      <td>True</td>\n",
       "      <td>article</td>\n",
       "      <td>random</td>\n",
       "      <td>train</td>\n",
       "    </tr>\n",
       "    <tr>\n",
       "      <th>4</th>\n",
       "      <td>2232</td>\n",
       "      <td>1574</td>\n",
       "      <td>0</td>\n",
       "      <td>1</td>\n",
       "      <td>female</td>\n",
       "      <td>0.0</td>\n",
       "      <td>30-45</td>\n",
       "      <td>bachelors</td>\n",
       "      <td>This: :One can make an analogy in mathematical...</td>\n",
       "      <td>2002</td>\n",
       "      <td>True</td>\n",
       "      <td>article</td>\n",
       "      <td>random</td>\n",
       "      <td>train</td>\n",
       "    </tr>\n",
       "    <tr>\n",
       "      <th>5</th>\n",
       "      <td>2232</td>\n",
       "      <td>1508</td>\n",
       "      <td>0</td>\n",
       "      <td>1</td>\n",
       "      <td>female</td>\n",
       "      <td>1.0</td>\n",
       "      <td>45-60</td>\n",
       "      <td>hs</td>\n",
       "      <td>This: :One can make an analogy in mathematical...</td>\n",
       "      <td>2002</td>\n",
       "      <td>True</td>\n",
       "      <td>article</td>\n",
       "      <td>random</td>\n",
       "      <td>train</td>\n",
       "    </tr>\n",
       "  </tbody>\n",
       "</table>\n",
       "</div>"
      ],
      "text/plain": [
       "   rev_id  worker_id  toxicity  toxicity_score  gender  \\\n",
       "0    2232        723         0               0  female   \n",
       "1    2232       4000         0               0    male   \n",
       "2    2232       3989         0               1  female   \n",
       "4    2232       1574         0               1  female   \n",
       "5    2232       1508         0               1  female   \n",
       "\n",
       "   english_first_language age_group  education  \\\n",
       "0                     0.0     30-45  bachelors   \n",
       "1                     1.0     18-30         hs   \n",
       "2                     0.0     18-30  bachelors   \n",
       "4                     0.0     30-45  bachelors   \n",
       "5                     1.0     45-60         hs   \n",
       "\n",
       "                                             comment  year  logged_in  \\\n",
       "0  This: :One can make an analogy in mathematical...  2002       True   \n",
       "1  This: :One can make an analogy in mathematical...  2002       True   \n",
       "2  This: :One can make an analogy in mathematical...  2002       True   \n",
       "4  This: :One can make an analogy in mathematical...  2002       True   \n",
       "5  This: :One can make an analogy in mathematical...  2002       True   \n",
       "\n",
       "        ns  sample  split  \n",
       "0  article  random  train  \n",
       "1  article  random  train  \n",
       "2  article  random  train  \n",
       "4  article  random  train  \n",
       "5  article  random  train  "
      ]
     },
     "execution_count": 20,
     "metadata": {},
     "output_type": "execute_result"
    }
   ],
   "source": [
    "# Drop rows with NaN values from the final data frame\n",
    "df_toxicity_new_final = df_toxicity_final.dropna()\n",
    "df_toxicity_new_final.head()"
   ]
  },
  {
   "cell_type": "markdown",
   "metadata": {},
   "source": [
    "### EVALUATE: demographic data + toxicity data"
   ]
  },
  {
   "cell_type": "markdown",
   "metadata": {},
   "source": [
    "Let's check the kernel density plot of toxicity score to see how it plays out"
   ]
  },
  {
   "cell_type": "code",
   "execution_count": 21,
   "metadata": {},
   "outputs": [
    {
     "data": {
      "image/png": "[encoded data removed]",
      "text/plain": [
       "<Figure size 1152x576 with 1 Axes>"
      ]
     },
     "metadata": {
      "needs_background": "light"
     },
     "output_type": "display_data"
    }
   ],
   "source": [
    "fig = plt.gcf()\n",
    "fig.set_size_inches(16, 8)\n",
    "\n",
    "# Kernel Density Plot\n",
    "sn.kdeplot(df_toxicity_new_final['toxicity_score'], shade=True, color='g', \n",
    "           bw = 1/(np.max(df_toxicity_new_final['toxicity_score'])-np.min(df_toxicity_new_final['toxicity_score'])));\n",
    "\n",
    "plt.title('Kernel Density Chart: Distribution of Toxicity Score')\n",
    "\n",
    "# Save the plot into a JPG picture file. The file will be saved in the same working directory of my Jupyter notebook.\n",
    "# The path location will be different on your machine. Feel free to update the directory to your choice.\n",
    "plt.savefig('A2_chart_toxicity_score-kernel_density.jpg', bbox_inches='tight', dpi=80)"
   ]
  },
  {
   "cell_type": "markdown",
   "metadata": {},
   "source": [
    "*Comment 7: Categorical variable ranging from very toxic (-2), to neutral (0), to very healthy (2)*\n",
    "\n",
    "*From the kernel density plot, we see that majority of toxicity score are **neutral (0) and slightly healthy (1)** comment.*\n",
    "\n",
    "*However, in order to get deeper into the insights to see potential bias, we need to see toxicity score with other data fields. Let's check the correlation to see if there are any useful information*"
   ]
  },
  {
   "cell_type": "code",
   "execution_count": 22,
   "metadata": {},
   "outputs": [
    {
     "data": {
      "image/png": "[encoded data removed]",
      "text/plain": [
       "<Figure size 720x576 with 2 Axes>"
      ]
     },
     "metadata": {
      "needs_background": "light"
     },
     "output_type": "display_data"
    }
   ],
   "source": [
    "# Plot the correlation matrix\n",
    "fig, ax = plt.subplots(figsize=(10,8))\n",
    "\n",
    "corrMatrix_toxicity = df_toxicity_new_final.corr()\n",
    "\n",
    "sn.heatmap(corrMatrix_toxicity, annot=True, cmap=\"Greens\")\n",
    "\n",
    "plt.title(\"Correlation Matrix Plot: Toxicity Score\")\n",
    "\n",
    "# Save the plot into a JPG picture file. The file will be saved in the same working directory of my Jupyter notebook.\n",
    "# The path location will be different on your machine. Feel free to update the directory to your choice.\n",
    "plt.savefig('A2_chart_toxicity_score-correlation_matrix.jpg', bbox_inches='tight', dpi=80)\n",
    "\n",
    "plt.show()"
   ]
  },
  {
   "cell_type": "markdown",
   "metadata": {},
   "source": [
    "*Comment 8: From the correlation matrix, we dont see any correlation among the **numeric data fields** that impacts the toxicity_score with more than 0.5* \n",
    "\n",
    "*This helps us to narrow down the scope and focus on the **categorical data fields** for bias with the following data fields: gender, age_group, and education*"
   ]
  },
  {
   "cell_type": "markdown",
   "metadata": {},
   "source": [
    "**Evaluate: Gender + Toxicity Score**"
   ]
  },
  {
   "cell_type": "markdown",
   "metadata": {},
   "source": [
    "Generate a pivot table between data fields and broken down gender into the toxicity score range"
   ]
  },
  {
   "cell_type": "code",
   "execution_count": 23,
   "metadata": {},
   "outputs": [
    {
     "data": {
      "text/html": [
       "<div>\n",
       "<style scoped>\n",
       "    .dataframe tbody tr th:only-of-type {\n",
       "        vertical-align: middle;\n",
       "    }\n",
       "\n",
       "    .dataframe tbody tr th {\n",
       "        vertical-align: top;\n",
       "    }\n",
       "\n",
       "    .dataframe thead th {\n",
       "        text-align: right;\n",
       "    }\n",
       "</style>\n",
       "<table border=\"1\" class=\"dataframe\">\n",
       "  <thead>\n",
       "    <tr style=\"text-align: right;\">\n",
       "      <th>toxicity_score</th>\n",
       "      <th>-2</th>\n",
       "      <th>-1</th>\n",
       "      <th>0</th>\n",
       "      <th>1</th>\n",
       "      <th>2</th>\n",
       "    </tr>\n",
       "    <tr>\n",
       "      <th>gender</th>\n",
       "      <th></th>\n",
       "      <th></th>\n",
       "      <th></th>\n",
       "      <th></th>\n",
       "      <th></th>\n",
       "    </tr>\n",
       "  </thead>\n",
       "  <tbody>\n",
       "    <tr>\n",
       "      <th>female</th>\n",
       "      <td>13787</td>\n",
       "      <td>56300</td>\n",
       "      <td>217921</td>\n",
       "      <td>151632</td>\n",
       "      <td>6465</td>\n",
       "    </tr>\n",
       "    <tr>\n",
       "      <th>male</th>\n",
       "      <td>21564</td>\n",
       "      <td>100316</td>\n",
       "      <td>419032</td>\n",
       "      <td>317528</td>\n",
       "      <td>12738</td>\n",
       "    </tr>\n",
       "  </tbody>\n",
       "</table>\n",
       "</div>"
      ],
      "text/plain": [
       "toxicity_score     -2      -1       0       1      2\n",
       "gender                                              \n",
       "female          13787   56300  217921  151632   6465\n",
       "male            21564  100316  419032  317528  12738"
      ]
     },
     "execution_count": 23,
     "metadata": {},
     "output_type": "execute_result"
    }
   ],
   "source": [
    "# Transform the data into pivot table format for detail analysis\n",
    "toxicity_tab_gender = pd.crosstab(df_toxicity_new_final['gender'], \n",
    "                                  columns = df_toxicity_new_final['toxicity_score'])\n",
    "toxicity_tab_gender"
   ]
  },
  {
   "cell_type": "code",
   "execution_count": 24,
   "metadata": {},
   "outputs": [
    {
     "data": {
      "text/html": [
       "<div>\n",
       "<style scoped>\n",
       "    .dataframe tbody tr th:only-of-type {\n",
       "        vertical-align: middle;\n",
       "    }\n",
       "\n",
       "    .dataframe tbody tr th {\n",
       "        vertical-align: top;\n",
       "    }\n",
       "\n",
       "    .dataframe thead th {\n",
       "        text-align: right;\n",
       "    }\n",
       "</style>\n",
       "<table border=\"1\" class=\"dataframe\">\n",
       "  <thead>\n",
       "    <tr style=\"text-align: right;\">\n",
       "      <th>toxicity_score</th>\n",
       "      <th>-2</th>\n",
       "      <th>-1</th>\n",
       "      <th>0</th>\n",
       "      <th>1</th>\n",
       "      <th>2</th>\n",
       "    </tr>\n",
       "    <tr>\n",
       "      <th>gender</th>\n",
       "      <th></th>\n",
       "      <th></th>\n",
       "      <th></th>\n",
       "      <th></th>\n",
       "      <th></th>\n",
       "    </tr>\n",
       "  </thead>\n",
       "  <tbody>\n",
       "    <tr>\n",
       "      <th>female</th>\n",
       "      <td>0.390003</td>\n",
       "      <td>0.359478</td>\n",
       "      <td>0.34213</td>\n",
       "      <td>0.323199</td>\n",
       "      <td>0.336666</td>\n",
       "    </tr>\n",
       "    <tr>\n",
       "      <th>male</th>\n",
       "      <td>0.609997</td>\n",
       "      <td>0.640522</td>\n",
       "      <td>0.65787</td>\n",
       "      <td>0.676801</td>\n",
       "      <td>0.663334</td>\n",
       "    </tr>\n",
       "  </tbody>\n",
       "</table>\n",
       "</div>"
      ],
      "text/plain": [
       "toxicity_score        -2        -1        0         1         2\n",
       "gender                                                         \n",
       "female          0.390003  0.359478  0.34213  0.323199  0.336666\n",
       "male            0.609997  0.640522  0.65787  0.676801  0.663334"
      ]
     },
     "execution_count": 24,
     "metadata": {},
     "output_type": "execute_result"
    }
   ],
   "source": [
    "# Viewing details from total distribution by toxicity score bucket\n",
    "toxicity_tab_gender / toxicity_tab_gender.sum()"
   ]
  },
  {
   "cell_type": "markdown",
   "metadata": {},
   "source": [
    "*Comment 9: As we found out earlier, there is **BIAS** of gender-balanced among workers especially male. This influenced factor carries out to the toxicity score outcome. On avegare, male worker are **65%** to show **BIAS** one way or the other (toxic, neutral, healthy)*\n",
    "\n",
    "*The misrepresentation of worker population in labelling the comment is **BIAS** in this nature because different gender identity impacts the way people think and judge matters in life.*"
   ]
  },
  {
   "cell_type": "markdown",
   "metadata": {},
   "source": [
    "Visualize this findings by plotting a chart below"
   ]
  },
  {
   "cell_type": "code",
   "execution_count": 25,
   "metadata": {},
   "outputs": [
    {
     "data": {
      "image/png": "[encoded data removed]",
      "text/plain": [
       "<Figure size 1152x576 with 1 Axes>"
      ]
     },
     "metadata": {
      "needs_background": "light"
     },
     "output_type": "display_data"
    }
   ],
   "source": [
    "# Plot an aggregate visualization to answer the exploratory question\n",
    "df_toxicity_new_final[['gender', 'toxicity_score']].groupby('gender').agg(['mean']).plot.bar()\n",
    "fig = plt.gcf()\n",
    "fig.set_size_inches(16, 8)\n",
    "plt.title(\"Average toxicity score by GENDER\")\n",
    "plt.xlabel('gender')\n",
    "plt.ylabel('mean toxicity_score')\n",
    "plt.legend(loc=2)\n",
    "\n",
    "# Save the plot into a JPG picture file. The file will be saved in the same working directory of my Jupyter notebook.\n",
    "# The path location will be different on your machine. Feel free to update the directory to your choice.\n",
    "plt.savefig('A2_chart_gender-toxicity_score.jpg', bbox_inches='tight', dpi=80)\n",
    "\n",
    "plt.show()"
   ]
  },
  {
   "cell_type": "markdown",
   "metadata": {},
   "source": [
    "**Evaluate: Age group + Toxicity Score**"
   ]
  },
  {
   "cell_type": "markdown",
   "metadata": {},
   "source": [
    "Generate a pivot table between data fields and broken down age group into the toxicity score range"
   ]
  },
  {
   "cell_type": "code",
   "execution_count": 26,
   "metadata": {},
   "outputs": [
    {
     "data": {
      "text/html": [
       "<div>\n",
       "<style scoped>\n",
       "    .dataframe tbody tr th:only-of-type {\n",
       "        vertical-align: middle;\n",
       "    }\n",
       "\n",
       "    .dataframe tbody tr th {\n",
       "        vertical-align: top;\n",
       "    }\n",
       "\n",
       "    .dataframe thead th {\n",
       "        text-align: right;\n",
       "    }\n",
       "</style>\n",
       "<table border=\"1\" class=\"dataframe\">\n",
       "  <thead>\n",
       "    <tr style=\"text-align: right;\">\n",
       "      <th>toxicity_score</th>\n",
       "      <th>-2</th>\n",
       "      <th>-1</th>\n",
       "      <th>0</th>\n",
       "      <th>1</th>\n",
       "      <th>2</th>\n",
       "    </tr>\n",
       "    <tr>\n",
       "      <th>age_group</th>\n",
       "      <th></th>\n",
       "      <th></th>\n",
       "      <th></th>\n",
       "      <th></th>\n",
       "      <th></th>\n",
       "    </tr>\n",
       "  </thead>\n",
       "  <tbody>\n",
       "    <tr>\n",
       "      <th>18-30</th>\n",
       "      <td>18685</td>\n",
       "      <td>81291</td>\n",
       "      <td>360289</td>\n",
       "      <td>238693</td>\n",
       "      <td>9224</td>\n",
       "    </tr>\n",
       "    <tr>\n",
       "      <th>30-45</th>\n",
       "      <td>12585</td>\n",
       "      <td>57412</td>\n",
       "      <td>213059</td>\n",
       "      <td>178158</td>\n",
       "      <td>7241</td>\n",
       "    </tr>\n",
       "    <tr>\n",
       "      <th>45-60</th>\n",
       "      <td>3266</td>\n",
       "      <td>13879</td>\n",
       "      <td>44957</td>\n",
       "      <td>39052</td>\n",
       "      <td>1973</td>\n",
       "    </tr>\n",
       "    <tr>\n",
       "      <th>Over 60</th>\n",
       "      <td>226</td>\n",
       "      <td>1299</td>\n",
       "      <td>4837</td>\n",
       "      <td>3270</td>\n",
       "      <td>85</td>\n",
       "    </tr>\n",
       "    <tr>\n",
       "      <th>Under 18</th>\n",
       "      <td>589</td>\n",
       "      <td>2735</td>\n",
       "      <td>13811</td>\n",
       "      <td>9987</td>\n",
       "      <td>680</td>\n",
       "    </tr>\n",
       "  </tbody>\n",
       "</table>\n",
       "</div>"
      ],
      "text/plain": [
       "toxicity_score     -2     -1       0       1     2\n",
       "age_group                                         \n",
       "18-30           18685  81291  360289  238693  9224\n",
       "30-45           12585  57412  213059  178158  7241\n",
       "45-60            3266  13879   44957   39052  1973\n",
       "Over 60           226   1299    4837    3270    85\n",
       "Under 18          589   2735   13811    9987   680"
      ]
     },
     "execution_count": 26,
     "metadata": {},
     "output_type": "execute_result"
    }
   ],
   "source": [
    "# Transform the data into pivot table format for detail analysis\n",
    "toxicity_tab_age_group = pd.crosstab(df_toxicity_new_final['age_group'], \n",
    "                                     columns = df_toxicity_new_final['toxicity_score'])\n",
    "toxicity_tab_age_group"
   ]
  },
  {
   "cell_type": "code",
   "execution_count": 27,
   "metadata": {},
   "outputs": [
    {
     "data": {
      "text/html": [
       "<div>\n",
       "<style scoped>\n",
       "    .dataframe tbody tr th:only-of-type {\n",
       "        vertical-align: middle;\n",
       "    }\n",
       "\n",
       "    .dataframe tbody tr th {\n",
       "        vertical-align: top;\n",
       "    }\n",
       "\n",
       "    .dataframe thead th {\n",
       "        text-align: right;\n",
       "    }\n",
       "</style>\n",
       "<table border=\"1\" class=\"dataframe\">\n",
       "  <thead>\n",
       "    <tr style=\"text-align: right;\">\n",
       "      <th>toxicity_score</th>\n",
       "      <th>-2</th>\n",
       "      <th>-1</th>\n",
       "      <th>0</th>\n",
       "      <th>1</th>\n",
       "      <th>2</th>\n",
       "    </tr>\n",
       "    <tr>\n",
       "      <th>age_group</th>\n",
       "      <th></th>\n",
       "      <th></th>\n",
       "      <th></th>\n",
       "      <th></th>\n",
       "      <th></th>\n",
       "    </tr>\n",
       "  </thead>\n",
       "  <tbody>\n",
       "    <tr>\n",
       "      <th>18-30</th>\n",
       "      <td>0.528556</td>\n",
       "      <td>0.519047</td>\n",
       "      <td>0.565645</td>\n",
       "      <td>0.508767</td>\n",
       "      <td>0.480342</td>\n",
       "    </tr>\n",
       "    <tr>\n",
       "      <th>30-45</th>\n",
       "      <td>0.356001</td>\n",
       "      <td>0.366578</td>\n",
       "      <td>0.334497</td>\n",
       "      <td>0.379738</td>\n",
       "      <td>0.377076</td>\n",
       "    </tr>\n",
       "    <tr>\n",
       "      <th>45-60</th>\n",
       "      <td>0.092388</td>\n",
       "      <td>0.088618</td>\n",
       "      <td>0.070581</td>\n",
       "      <td>0.083238</td>\n",
       "      <td>0.102744</td>\n",
       "    </tr>\n",
       "    <tr>\n",
       "      <th>Over 60</th>\n",
       "      <td>0.006393</td>\n",
       "      <td>0.008294</td>\n",
       "      <td>0.007594</td>\n",
       "      <td>0.006970</td>\n",
       "      <td>0.004426</td>\n",
       "    </tr>\n",
       "    <tr>\n",
       "      <th>Under 18</th>\n",
       "      <td>0.016661</td>\n",
       "      <td>0.017463</td>\n",
       "      <td>0.021683</td>\n",
       "      <td>0.021287</td>\n",
       "      <td>0.035411</td>\n",
       "    </tr>\n",
       "  </tbody>\n",
       "</table>\n",
       "</div>"
      ],
      "text/plain": [
       "toxicity_score        -2        -1         0         1         2\n",
       "age_group                                                       \n",
       "18-30           0.528556  0.519047  0.565645  0.508767  0.480342\n",
       "30-45           0.356001  0.366578  0.334497  0.379738  0.377076\n",
       "45-60           0.092388  0.088618  0.070581  0.083238  0.102744\n",
       "Over 60         0.006393  0.008294  0.007594  0.006970  0.004426\n",
       "Under 18        0.016661  0.017463  0.021683  0.021287  0.035411"
      ]
     },
     "execution_count": 27,
     "metadata": {},
     "output_type": "execute_result"
    }
   ],
   "source": [
    "# Viewing details from total distribution by toxicity score bucket\n",
    "toxicity_tab_age_group / toxicity_tab_age_group.sum()"
   ]
  },
  {
   "cell_type": "markdown",
   "metadata": {},
   "source": [
    "*Comment 10: the result is consistent with what we expected from earlier analysis. Ages between 18 and 45 hold around **88%** in general and is fairly consistent among toxicity score buckets.* \n",
    "\n",
    "*This disproportion of the population creates **BIAS** in the overall dataset.* \n",
    "\n",
    "*- Older people (over 60) with more experience in life will have a different judgement on toxic comment.*\n",
    "\n",
    "*- Younger people (under 18) as teenager with less experience in life will also have a different judgement on toxic comment.*\n",
    "\n",
    "*- Middle people (18 - 60) will also have a different judgement on toxic comment.*"
   ]
  },
  {
   "cell_type": "markdown",
   "metadata": {},
   "source": [
    "Visualize this findings by plotting a chart below"
   ]
  },
  {
   "cell_type": "code",
   "execution_count": 28,
   "metadata": {},
   "outputs": [
    {
     "data": {
      "image/png": "[encoded data removed]",
      "text/plain": [
       "<Figure size 1152x576 with 1 Axes>"
      ]
     },
     "metadata": {
      "needs_background": "light"
     },
     "output_type": "display_data"
    }
   ],
   "source": [
    "df_toxicity_new_final[['age_group', 'toxicity_score']].groupby('age_group').agg(['mean']).plot.bar()\n",
    "fig = plt.gcf()\n",
    "fig.set_size_inches(16, 8)\n",
    "plt.title(\"Average toxicity score by AGE GROUP\")\n",
    "plt.xlabel('Age Group')\n",
    "plt.ylabel('mean toxicity_score')\n",
    "plt.legend(loc=2)\n",
    "\n",
    "# Save the plot into a JPG picture file. The file will be saved in the same working directory of my Jupyter notebook.\n",
    "# The path location will be different on your machine. Feel free to update the directory to your choice.\n",
    "plt.savefig('A2_chart_age_group-toxicity_score.jpg', bbox_inches='tight', dpi=80)\n",
    "\n",
    "plt.show()"
   ]
  },
  {
   "cell_type": "markdown",
   "metadata": {},
   "source": [
    "Let's go one step further by incorporate one more dimension into the visualization to make it a multivariate chart. \n",
    "\n",
    "3D = 3 dimensional variables (age group + toxicity score + education)"
   ]
  },
  {
   "cell_type": "code",
   "execution_count": 29,
   "metadata": {},
   "outputs": [
    {
     "data": {
      "image/png": "[encoded data removed]",
      "text/plain": [
       "<Figure size 1152x576 with 1 Axes>"
      ]
     },
     "metadata": {
      "needs_background": "light"
     },
     "output_type": "display_data"
    }
   ],
   "source": [
    "fig = plt.gcf()\n",
    "fig.set_size_inches(16, 8)\n",
    "\n",
    "sn.set(style=\"whitegrid\")\n",
    "\n",
    "### Violin plot\n",
    "sn.violinplot(df_toxicity_new_final['age_group'], \n",
    "               df_toxicity_new_final['toxicity_score'],\n",
    "               hue = df_toxicity_new_final['education'],\n",
    "               shade = True,\n",
    "               linewidth = 0.5);\n",
    "\n",
    "plt.title('Multivariate Chart: Impact of Age Group and Education on Toxicity Score')\n",
    "\n",
    "# Save the plot into a JPG picture file. The file will be saved in the same working directory of my Jupyter notebook.\n",
    "# The path location will be different on your machine. Feel free to update the directory to your choice.\n",
    "plt.savefig('A2_chart_age_group-toxicity_score-education.jpg', bbox_inches='tight', dpi=80)"
   ]
  },
  {
   "cell_type": "markdown",
   "metadata": {},
   "source": [
    "*Comment 11: With only two dimension variable (age group, toxicity score), we wonder why under 18 has a high average toxicity score than other age group from previous chart.*\n",
    "\n",
    "*Now with 3D chart (age group, toxicity score, education), we see the reason of why and the **BIAS** it produces. This violin chart reveals a missing \"professional\" and \"none\" education background data point. This bolsten the **BIAS** finding in labeling toxic comment by age group from education background view*"
   ]
  },
  {
   "cell_type": "markdown",
   "metadata": {},
   "source": [
    "**Evaluate: Education + Toxicity Score**"
   ]
  },
  {
   "cell_type": "markdown",
   "metadata": {},
   "source": [
    "Generate a pivot table between data fields and broken down education into the toxicity score range"
   ]
  },
  {
   "cell_type": "code",
   "execution_count": 30,
   "metadata": {},
   "outputs": [
    {
     "data": {
      "text/html": [
       "<div>\n",
       "<style scoped>\n",
       "    .dataframe tbody tr th:only-of-type {\n",
       "        vertical-align: middle;\n",
       "    }\n",
       "\n",
       "    .dataframe tbody tr th {\n",
       "        vertical-align: top;\n",
       "    }\n",
       "\n",
       "    .dataframe thead th {\n",
       "        text-align: right;\n",
       "    }\n",
       "</style>\n",
       "<table border=\"1\" class=\"dataframe\">\n",
       "  <thead>\n",
       "    <tr style=\"text-align: right;\">\n",
       "      <th>toxicity_score</th>\n",
       "      <th>-2</th>\n",
       "      <th>-1</th>\n",
       "      <th>0</th>\n",
       "      <th>1</th>\n",
       "      <th>2</th>\n",
       "    </tr>\n",
       "    <tr>\n",
       "      <th>education</th>\n",
       "      <th></th>\n",
       "      <th></th>\n",
       "      <th></th>\n",
       "      <th></th>\n",
       "      <th></th>\n",
       "    </tr>\n",
       "  </thead>\n",
       "  <tbody>\n",
       "    <tr>\n",
       "      <th>bachelors</th>\n",
       "      <td>14400</td>\n",
       "      <td>64590</td>\n",
       "      <td>254559</td>\n",
       "      <td>188370</td>\n",
       "      <td>7285</td>\n",
       "    </tr>\n",
       "    <tr>\n",
       "      <th>doctorate</th>\n",
       "      <td>420</td>\n",
       "      <td>1443</td>\n",
       "      <td>6762</td>\n",
       "      <td>5200</td>\n",
       "      <td>308</td>\n",
       "    </tr>\n",
       "    <tr>\n",
       "      <th>hs</th>\n",
       "      <td>10864</td>\n",
       "      <td>42080</td>\n",
       "      <td>175846</td>\n",
       "      <td>135559</td>\n",
       "      <td>6931</td>\n",
       "    </tr>\n",
       "    <tr>\n",
       "      <th>masters</th>\n",
       "      <td>5077</td>\n",
       "      <td>24371</td>\n",
       "      <td>100976</td>\n",
       "      <td>67311</td>\n",
       "      <td>2255</td>\n",
       "    </tr>\n",
       "    <tr>\n",
       "      <th>none</th>\n",
       "      <td>9</td>\n",
       "      <td>113</td>\n",
       "      <td>123</td>\n",
       "      <td>655</td>\n",
       "      <td>25</td>\n",
       "    </tr>\n",
       "    <tr>\n",
       "      <th>professional</th>\n",
       "      <td>3528</td>\n",
       "      <td>20393</td>\n",
       "      <td>81862</td>\n",
       "      <td>59173</td>\n",
       "      <td>1818</td>\n",
       "    </tr>\n",
       "    <tr>\n",
       "      <th>some</th>\n",
       "      <td>1053</td>\n",
       "      <td>3626</td>\n",
       "      <td>16825</td>\n",
       "      <td>12892</td>\n",
       "      <td>581</td>\n",
       "    </tr>\n",
       "  </tbody>\n",
       "</table>\n",
       "</div>"
      ],
      "text/plain": [
       "toxicity_score     -2     -1       0       1     2\n",
       "education                                         \n",
       "bachelors       14400  64590  254559  188370  7285\n",
       "doctorate         420   1443    6762    5200   308\n",
       "hs              10864  42080  175846  135559  6931\n",
       "masters          5077  24371  100976   67311  2255\n",
       "none                9    113     123     655    25\n",
       "professional     3528  20393   81862   59173  1818\n",
       "some             1053   3626   16825   12892   581"
      ]
     },
     "execution_count": 30,
     "metadata": {},
     "output_type": "execute_result"
    }
   ],
   "source": [
    "# Transform the data into pivot table format for detail analysis\n",
    "toxicity_tab_education = pd.crosstab(df_toxicity_new_final['education'], \n",
    "                                     columns = df_toxicity_new_final['toxicity_score'])\n",
    "toxicity_tab_education"
   ]
  },
  {
   "cell_type": "code",
   "execution_count": 31,
   "metadata": {},
   "outputs": [
    {
     "data": {
      "text/html": [
       "<div>\n",
       "<style scoped>\n",
       "    .dataframe tbody tr th:only-of-type {\n",
       "        vertical-align: middle;\n",
       "    }\n",
       "\n",
       "    .dataframe tbody tr th {\n",
       "        vertical-align: top;\n",
       "    }\n",
       "\n",
       "    .dataframe thead th {\n",
       "        text-align: right;\n",
       "    }\n",
       "</style>\n",
       "<table border=\"1\" class=\"dataframe\">\n",
       "  <thead>\n",
       "    <tr style=\"text-align: right;\">\n",
       "      <th>toxicity_score</th>\n",
       "      <th>-2</th>\n",
       "      <th>-1</th>\n",
       "      <th>0</th>\n",
       "      <th>1</th>\n",
       "      <th>2</th>\n",
       "    </tr>\n",
       "    <tr>\n",
       "      <th>education</th>\n",
       "      <th></th>\n",
       "      <th></th>\n",
       "      <th></th>\n",
       "      <th></th>\n",
       "      <th></th>\n",
       "    </tr>\n",
       "  </thead>\n",
       "  <tbody>\n",
       "    <tr>\n",
       "      <th>bachelors</th>\n",
       "      <td>0.407343</td>\n",
       "      <td>0.412410</td>\n",
       "      <td>0.399651</td>\n",
       "      <td>0.401505</td>\n",
       "      <td>0.379368</td>\n",
       "    </tr>\n",
       "    <tr>\n",
       "      <th>doctorate</th>\n",
       "      <td>0.011881</td>\n",
       "      <td>0.009214</td>\n",
       "      <td>0.010616</td>\n",
       "      <td>0.011084</td>\n",
       "      <td>0.016039</td>\n",
       "    </tr>\n",
       "    <tr>\n",
       "      <th>hs</th>\n",
       "      <td>0.307318</td>\n",
       "      <td>0.268683</td>\n",
       "      <td>0.276074</td>\n",
       "      <td>0.288940</td>\n",
       "      <td>0.360933</td>\n",
       "    </tr>\n",
       "    <tr>\n",
       "      <th>masters</th>\n",
       "      <td>0.143617</td>\n",
       "      <td>0.155610</td>\n",
       "      <td>0.158530</td>\n",
       "      <td>0.143471</td>\n",
       "      <td>0.117430</td>\n",
       "    </tr>\n",
       "    <tr>\n",
       "      <th>none</th>\n",
       "      <td>0.000255</td>\n",
       "      <td>0.000722</td>\n",
       "      <td>0.000193</td>\n",
       "      <td>0.001396</td>\n",
       "      <td>0.001302</td>\n",
       "    </tr>\n",
       "    <tr>\n",
       "      <th>professional</th>\n",
       "      <td>0.099799</td>\n",
       "      <td>0.130210</td>\n",
       "      <td>0.128521</td>\n",
       "      <td>0.126125</td>\n",
       "      <td>0.094673</td>\n",
       "    </tr>\n",
       "    <tr>\n",
       "      <th>some</th>\n",
       "      <td>0.029787</td>\n",
       "      <td>0.023152</td>\n",
       "      <td>0.026415</td>\n",
       "      <td>0.027479</td>\n",
       "      <td>0.030256</td>\n",
       "    </tr>\n",
       "  </tbody>\n",
       "</table>\n",
       "</div>"
      ],
      "text/plain": [
       "toxicity_score        -2        -1         0         1         2\n",
       "education                                                       \n",
       "bachelors       0.407343  0.412410  0.399651  0.401505  0.379368\n",
       "doctorate       0.011881  0.009214  0.010616  0.011084  0.016039\n",
       "hs              0.307318  0.268683  0.276074  0.288940  0.360933\n",
       "masters         0.143617  0.155610  0.158530  0.143471  0.117430\n",
       "none            0.000255  0.000722  0.000193  0.001396  0.001302\n",
       "professional    0.099799  0.130210  0.128521  0.126125  0.094673\n",
       "some            0.029787  0.023152  0.026415  0.027479  0.030256"
      ]
     },
     "execution_count": 31,
     "metadata": {},
     "output_type": "execute_result"
    }
   ],
   "source": [
    "# Viewing details from total distribution by toxicity score bucket\n",
    "toxicity_tab_education / toxicity_tab_education.sum()"
   ]
  },
  {
   "cell_type": "markdown",
   "metadata": {},
   "source": [
    "*Comment 12: from a high level, the higher education (bachelors, masters, doctorate) holds more than **56%** and is consistent when comparing among the toxicity score bucket (very toxic, neutral, very healthy)*\n",
    "\n",
    "*Another insight to point out that worker with no education background even though accounts a small percentage in total but it has higher toxicity score toward slightly healthy comments based on ratio proportion.*"
   ]
  },
  {
   "cell_type": "markdown",
   "metadata": {},
   "source": [
    "Visualize this findings by plotting a chart below"
   ]
  },
  {
   "cell_type": "code",
   "execution_count": 32,
   "metadata": {},
   "outputs": [
    {
     "data": {
      "image/png": "[encoded data removed]",
      "text/plain": [
       "<Figure size 1152x576 with 1 Axes>"
      ]
     },
     "metadata": {},
     "output_type": "display_data"
    }
   ],
   "source": [
    "# Plot an aggregate visualization to answer the exploratory question\n",
    "df_toxicity_new_final[['education', 'toxicity_score']].groupby('education').agg(['mean']).plot.bar()\n",
    "fig = plt.gcf()\n",
    "fig.set_size_inches(16, 8)\n",
    "plt.title(\"Average toxicity score by EDUCATION\")\n",
    "plt.xlabel('Education')\n",
    "plt.ylabel('mean toxicity_score')\n",
    "plt.legend(loc=2)\n",
    "\n",
    "# Save the plot into a JPG picture file. The file will be saved in the same working directory of my Jupyter notebook.\n",
    "# The path location will be different on your machine. Feel free to update the directory to your choice.\n",
    "plt.savefig('A2_chart_education-toxicity_score.jpg', bbox_inches='tight', dpi=80)\n",
    "\n",
    "plt.show()"
   ]
  },
  {
   "cell_type": "markdown",
   "metadata": {},
   "source": [
    "Let's go one step further by incorporate one more dimension into the visualization to make it a multivariate chart. \n",
    "\n",
    "3D = 3 dimensional variables (education + toxicity score + gender)"
   ]
  },
  {
   "cell_type": "code",
   "execution_count": 33,
   "metadata": {},
   "outputs": [
    {
     "data": {
      "image/png": "[encoded data removed]",
      "text/plain": [
       "<Figure size 1152x576 with 1 Axes>"
      ]
     },
     "metadata": {},
     "output_type": "display_data"
    }
   ],
   "source": [
    "fig = plt.gcf()\n",
    "fig.set_size_inches(16, 8)\n",
    "\n",
    "sn.set(style=\"whitegrid\")\n",
    "\n",
    "### Violin plot\n",
    "sn.violinplot(df_toxicity_new_final['education'], \n",
    "               df_toxicity_new_final['toxicity_score'],\n",
    "               hue = df_toxicity_new_final['gender'],\n",
    "               shade = True,\n",
    "               linewidth = 0.5);\n",
    "\n",
    "plt.title('Multivariate Chart: Impact of Education and Gender on Toxicity Score')\n",
    "\n",
    "# Save the plot into a JPG picture file. The file will be saved in the same working directory of my Jupyter notebook.\n",
    "# The path location will be different on your machine. Feel free to update the directory to your choice.\n",
    "plt.savefig('A2_chart_education-toxicity_score-gender.jpg', bbox_inches='tight', dpi=80)"
   ]
  },
  {
   "cell_type": "markdown",
   "metadata": {},
   "source": [
    "*Comment 13: With only two dimension variable (education, toxicity score), we wonder why no education background (none) is unique from the previous chart.*\n",
    "\n",
    "*Now with 3D chart (education, toxicity score, gender), we see the reason of why and the **BIAS** it produces*\n",
    "\n",
    "*- As previously found, male workers as annotators are more than female workers. This not gender-balanced is a point 1*\n",
    "\n",
    "*- This violin chart reveals a missing female workers data point with no education background. This is another point 2*\n",
    "\n",
    "*These 2 points together present another **BIAS** in labeling toxic comment by gender from education background view*"
   ]
  },
  {
   "cell_type": "markdown",
   "metadata": {},
   "source": [
    "## Analysis: Agression Dataset"
   ]
  },
  {
   "cell_type": "markdown",
   "metadata": {},
   "source": [
    "### Get Data & Clean Up"
   ]
  },
  {
   "cell_type": "markdown",
   "metadata": {},
   "source": [
    "Get Aggression data files into data frames. For code simplification, we use annotation as follow:\n",
    "\n",
    "- ann = annotations\n",
    "- com = annotated comments\n",
    "- dem = worker demographics"
   ]
  },
  {
   "cell_type": "code",
   "execution_count": 34,
   "metadata": {},
   "outputs": [],
   "source": [
    "df_aggression_ann = pd.read_csv('aggression_annotations.tsv', sep = '\\t')\n",
    "\n",
    "df_aggression_com = pd.read_csv('aggression_annotated_comments.tsv', sep = '\\t')\n",
    "\n",
    "df_aggression_dem = pd.read_csv('aggression_worker_demographics.tsv', sep = '\\t')"
   ]
  },
  {
   "cell_type": "markdown",
   "metadata": {},
   "source": [
    "Perform visual inspection on the data"
   ]
  },
  {
   "cell_type": "code",
   "execution_count": 35,
   "metadata": {},
   "outputs": [
    {
     "data": {
      "text/html": [
       "<div>\n",
       "<style scoped>\n",
       "    .dataframe tbody tr th:only-of-type {\n",
       "        vertical-align: middle;\n",
       "    }\n",
       "\n",
       "    .dataframe tbody tr th {\n",
       "        vertical-align: top;\n",
       "    }\n",
       "\n",
       "    .dataframe thead th {\n",
       "        text-align: right;\n",
       "    }\n",
       "</style>\n",
       "<table border=\"1\" class=\"dataframe\">\n",
       "  <thead>\n",
       "    <tr style=\"text-align: right;\">\n",
       "      <th></th>\n",
       "      <th>rev_id</th>\n",
       "      <th>worker_id</th>\n",
       "      <th>aggression</th>\n",
       "      <th>aggression_score</th>\n",
       "    </tr>\n",
       "  </thead>\n",
       "  <tbody>\n",
       "    <tr>\n",
       "      <th>0</th>\n",
       "      <td>37675</td>\n",
       "      <td>1362</td>\n",
       "      <td>1.0</td>\n",
       "      <td>-1.0</td>\n",
       "    </tr>\n",
       "    <tr>\n",
       "      <th>1</th>\n",
       "      <td>37675</td>\n",
       "      <td>2408</td>\n",
       "      <td>0.0</td>\n",
       "      <td>1.0</td>\n",
       "    </tr>\n",
       "    <tr>\n",
       "      <th>2</th>\n",
       "      <td>37675</td>\n",
       "      <td>1493</td>\n",
       "      <td>0.0</td>\n",
       "      <td>0.0</td>\n",
       "    </tr>\n",
       "    <tr>\n",
       "      <th>3</th>\n",
       "      <td>37675</td>\n",
       "      <td>1439</td>\n",
       "      <td>0.0</td>\n",
       "      <td>0.0</td>\n",
       "    </tr>\n",
       "    <tr>\n",
       "      <th>4</th>\n",
       "      <td>37675</td>\n",
       "      <td>170</td>\n",
       "      <td>0.0</td>\n",
       "      <td>0.0</td>\n",
       "    </tr>\n",
       "  </tbody>\n",
       "</table>\n",
       "</div>"
      ],
      "text/plain": [
       "   rev_id  worker_id  aggression  aggression_score\n",
       "0   37675       1362         1.0              -1.0\n",
       "1   37675       2408         0.0               1.0\n",
       "2   37675       1493         0.0               0.0\n",
       "3   37675       1439         0.0               0.0\n",
       "4   37675        170         0.0               0.0"
      ]
     },
     "execution_count": 35,
     "metadata": {},
     "output_type": "execute_result"
    }
   ],
   "source": [
    "df_aggression_ann.head()"
   ]
  },
  {
   "cell_type": "code",
   "execution_count": 36,
   "metadata": {},
   "outputs": [
    {
     "data": {
      "text/html": [
       "<div>\n",
       "<style scoped>\n",
       "    .dataframe tbody tr th:only-of-type {\n",
       "        vertical-align: middle;\n",
       "    }\n",
       "\n",
       "    .dataframe tbody tr th {\n",
       "        vertical-align: top;\n",
       "    }\n",
       "\n",
       "    .dataframe thead th {\n",
       "        text-align: right;\n",
       "    }\n",
       "</style>\n",
       "<table border=\"1\" class=\"dataframe\">\n",
       "  <thead>\n",
       "    <tr style=\"text-align: right;\">\n",
       "      <th></th>\n",
       "      <th>rev_id</th>\n",
       "      <th>comment</th>\n",
       "      <th>year</th>\n",
       "      <th>logged_in</th>\n",
       "      <th>ns</th>\n",
       "      <th>sample</th>\n",
       "      <th>split</th>\n",
       "    </tr>\n",
       "  </thead>\n",
       "  <tbody>\n",
       "    <tr>\n",
       "      <th>0</th>\n",
       "      <td>37675</td>\n",
       "      <td>`-NEWLINE_TOKENThis is not ``creative``.  Thos...</td>\n",
       "      <td>2002</td>\n",
       "      <td>True</td>\n",
       "      <td>article</td>\n",
       "      <td>random</td>\n",
       "      <td>train</td>\n",
       "    </tr>\n",
       "    <tr>\n",
       "      <th>1</th>\n",
       "      <td>44816</td>\n",
       "      <td>`NEWLINE_TOKENNEWLINE_TOKEN:: the term ``stand...</td>\n",
       "      <td>2002</td>\n",
       "      <td>True</td>\n",
       "      <td>article</td>\n",
       "      <td>random</td>\n",
       "      <td>train</td>\n",
       "    </tr>\n",
       "    <tr>\n",
       "      <th>2</th>\n",
       "      <td>49851</td>\n",
       "      <td>NEWLINE_TOKENNEWLINE_TOKENTrue or false, the s...</td>\n",
       "      <td>2002</td>\n",
       "      <td>True</td>\n",
       "      <td>article</td>\n",
       "      <td>random</td>\n",
       "      <td>train</td>\n",
       "    </tr>\n",
       "    <tr>\n",
       "      <th>3</th>\n",
       "      <td>89320</td>\n",
       "      <td>Next, maybe you could work on being less cond...</td>\n",
       "      <td>2002</td>\n",
       "      <td>True</td>\n",
       "      <td>article</td>\n",
       "      <td>random</td>\n",
       "      <td>dev</td>\n",
       "    </tr>\n",
       "    <tr>\n",
       "      <th>4</th>\n",
       "      <td>93890</td>\n",
       "      <td>This page will need disambiguation.</td>\n",
       "      <td>2002</td>\n",
       "      <td>True</td>\n",
       "      <td>article</td>\n",
       "      <td>random</td>\n",
       "      <td>train</td>\n",
       "    </tr>\n",
       "  </tbody>\n",
       "</table>\n",
       "</div>"
      ],
      "text/plain": [
       "   rev_id                                            comment  year  logged_in  \\\n",
       "0   37675  `-NEWLINE_TOKENThis is not ``creative``.  Thos...  2002       True   \n",
       "1   44816  `NEWLINE_TOKENNEWLINE_TOKEN:: the term ``stand...  2002       True   \n",
       "2   49851  NEWLINE_TOKENNEWLINE_TOKENTrue or false, the s...  2002       True   \n",
       "3   89320   Next, maybe you could work on being less cond...  2002       True   \n",
       "4   93890               This page will need disambiguation.   2002       True   \n",
       "\n",
       "        ns  sample  split  \n",
       "0  article  random  train  \n",
       "1  article  random  train  \n",
       "2  article  random  train  \n",
       "3  article  random    dev  \n",
       "4  article  random  train  "
      ]
     },
     "execution_count": 36,
     "metadata": {},
     "output_type": "execute_result"
    }
   ],
   "source": [
    "df_aggression_com.head()"
   ]
  },
  {
   "cell_type": "code",
   "execution_count": 37,
   "metadata": {},
   "outputs": [
    {
     "data": {
      "text/html": [
       "<div>\n",
       "<style scoped>\n",
       "    .dataframe tbody tr th:only-of-type {\n",
       "        vertical-align: middle;\n",
       "    }\n",
       "\n",
       "    .dataframe tbody tr th {\n",
       "        vertical-align: top;\n",
       "    }\n",
       "\n",
       "    .dataframe thead th {\n",
       "        text-align: right;\n",
       "    }\n",
       "</style>\n",
       "<table border=\"1\" class=\"dataframe\">\n",
       "  <thead>\n",
       "    <tr style=\"text-align: right;\">\n",
       "      <th></th>\n",
       "      <th>worker_id</th>\n",
       "      <th>gender</th>\n",
       "      <th>english_first_language</th>\n",
       "      <th>age_group</th>\n",
       "      <th>education</th>\n",
       "    </tr>\n",
       "  </thead>\n",
       "  <tbody>\n",
       "    <tr>\n",
       "      <th>0</th>\n",
       "      <td>833</td>\n",
       "      <td>female</td>\n",
       "      <td>0</td>\n",
       "      <td>45-60</td>\n",
       "      <td>bachelors</td>\n",
       "    </tr>\n",
       "    <tr>\n",
       "      <th>1</th>\n",
       "      <td>1072</td>\n",
       "      <td>male</td>\n",
       "      <td>0</td>\n",
       "      <td>30-45</td>\n",
       "      <td>bachelors</td>\n",
       "    </tr>\n",
       "    <tr>\n",
       "      <th>2</th>\n",
       "      <td>872</td>\n",
       "      <td>male</td>\n",
       "      <td>0</td>\n",
       "      <td>18-30</td>\n",
       "      <td>hs</td>\n",
       "    </tr>\n",
       "    <tr>\n",
       "      <th>3</th>\n",
       "      <td>2116</td>\n",
       "      <td>male</td>\n",
       "      <td>0</td>\n",
       "      <td>30-45</td>\n",
       "      <td>professional</td>\n",
       "    </tr>\n",
       "    <tr>\n",
       "      <th>4</th>\n",
       "      <td>453</td>\n",
       "      <td>male</td>\n",
       "      <td>0</td>\n",
       "      <td>30-45</td>\n",
       "      <td>hs</td>\n",
       "    </tr>\n",
       "  </tbody>\n",
       "</table>\n",
       "</div>"
      ],
      "text/plain": [
       "   worker_id  gender  english_first_language age_group     education\n",
       "0        833  female                       0     45-60     bachelors\n",
       "1       1072    male                       0     30-45     bachelors\n",
       "2        872    male                       0     18-30            hs\n",
       "3       2116    male                       0     30-45  professional\n",
       "4        453    male                       0     30-45            hs"
      ]
     },
     "execution_count": 37,
     "metadata": {},
     "output_type": "execute_result"
    }
   ],
   "source": [
    "df_aggression_dem.head()"
   ]
  },
  {
   "cell_type": "markdown",
   "metadata": {},
   "source": [
    "From observation, we see there are some data format we need to do in order to have a clean data."
   ]
  },
  {
   "cell_type": "code",
   "execution_count": 38,
   "metadata": {},
   "outputs": [],
   "source": [
    "# Reformat the numeric values to remove the \".0\"\n",
    "df_aggression_ann = df_aggression_ann.astype(int)\n",
    "\n",
    "# remove newline and tab tokens\n",
    "df_aggression_com['comment'] = df_aggression_com['comment'].apply(lambda x: x.replace(\"NEWLINE_TOKEN\", \" \"))\n",
    "df_aggression_com['comment'] = df_aggression_com['comment'].apply(lambda x: x.replace(\"TAB_TOKEN\", \" \"))"
   ]
  },
  {
   "cell_type": "markdown",
   "metadata": {},
   "source": [
    "### Descriptive Statistics Checking"
   ]
  },
  {
   "cell_type": "markdown",
   "metadata": {},
   "source": [
    "Checking total of unique records of three data files"
   ]
  },
  {
   "cell_type": "code",
   "execution_count": 39,
   "metadata": {},
   "outputs": [
    {
     "name": "stdout",
     "output_type": "stream",
     "text": [
      "Total annotations:  115864\n",
      "Total annotated comments:  115864\n",
      "Total workers:  2190\n"
     ]
    }
   ],
   "source": [
    "# Checking total of unique records\n",
    "print(\"Total annotations: \", len(df_aggression_ann['rev_id'].unique()))\n",
    "print(\"Total annotated comments: \", len(df_aggression_com['rev_id'].unique()))\n",
    "print(\"Total workers: \", len(df_aggression_dem['worker_id'].unique()))"
   ]
  },
  {
   "cell_type": "markdown",
   "metadata": {},
   "source": [
    "Since we are interested in question about demograpic, let's do a brief glance through key demographic data components"
   ]
  },
  {
   "cell_type": "markdown",
   "metadata": {},
   "source": [
    "**Gender distribution**"
   ]
  },
  {
   "cell_type": "code",
   "execution_count": 40,
   "metadata": {},
   "outputs": [
    {
     "data": {
      "text/plain": [
       "male      1349\n",
       "female     840\n",
       "other        1\n",
       "Name: gender, dtype: int64"
      ]
     },
     "execution_count": 40,
     "metadata": {},
     "output_type": "execute_result"
    }
   ],
   "source": [
    "# Distribution table\n",
    "df_aggression_dem['gender'].value_counts()"
   ]
  },
  {
   "cell_type": "markdown",
   "metadata": {},
   "source": [
    "*Comment 14: There is one worker does not identify as either male or female. This one \"other\" is not significant in a whole schema and is a noise. So we need to remove it from the data frame*"
   ]
  },
  {
   "cell_type": "code",
   "execution_count": 41,
   "metadata": {},
   "outputs": [
    {
     "data": {
      "text/plain": [
       "male      1349\n",
       "female     840\n",
       "Name: gender, dtype: int64"
      ]
     },
     "execution_count": 41,
     "metadata": {},
     "output_type": "execute_result"
    }
   ],
   "source": [
    "# Remove this one record for this unique worker\n",
    "df_aggression_dem = df_aggression_dem.drop(df_aggression_dem[df_aggression_dem.gender == 'other'].index)\n",
    "\n",
    "# Review the clean gender data\n",
    "df_aggression_dem['gender'].value_counts()"
   ]
  },
  {
   "cell_type": "markdown",
   "metadata": {},
   "source": [
    "Let's look at the frequency table"
   ]
  },
  {
   "cell_type": "code",
   "execution_count": 42,
   "metadata": {},
   "outputs": [
    {
     "data": {
      "text/plain": [
       "male      0.616263\n",
       "female    0.383737\n",
       "Name: gender, dtype: float64"
      ]
     },
     "execution_count": 42,
     "metadata": {},
     "output_type": "execute_result"
    }
   ],
   "source": [
    "# Frequency table\n",
    "x5 = df_aggression_dem['gender'].value_counts()\n",
    "x5 / x5.sum()"
   ]
  },
  {
   "cell_type": "markdown",
   "metadata": {},
   "source": [
    "*Comment 15: There are about **1.5X** number of male workers than female workers. Male workers account **61.6%**. This means the gender is not balanced among the workers. This factor shows a **BIAS** in annotating the toxicity comment because men and women have different perspective about aggression*"
   ]
  },
  {
   "cell_type": "markdown",
   "metadata": {},
   "source": [
    "**English first language distribution**"
   ]
  },
  {
   "cell_type": "code",
   "execution_count": 43,
   "metadata": {},
   "outputs": [
    {
     "data": {
      "text/plain": [
       "0    1787\n",
       "1     402\n",
       "Name: english_first_language, dtype: int64"
      ]
     },
     "execution_count": 43,
     "metadata": {},
     "output_type": "execute_result"
    }
   ],
   "source": [
    "# Distribution table\n",
    "df_aggression_dem['english_first_language'].value_counts()"
   ]
  },
  {
   "cell_type": "markdown",
   "metadata": {},
   "source": [
    "Let's look at the frequecy table"
   ]
  },
  {
   "cell_type": "code",
   "execution_count": 44,
   "metadata": {},
   "outputs": [
    {
     "data": {
      "text/plain": [
       "0    0.816354\n",
       "1    0.183646\n",
       "Name: english_first_language, dtype: float64"
      ]
     },
     "execution_count": 44,
     "metadata": {},
     "output_type": "execute_result"
    }
   ],
   "source": [
    "# Frequency table\n",
    "x6 = df_aggression_dem['english_first_language'].value_counts()\n",
    "x6 / x6.sum()"
   ]
  },
  {
   "cell_type": "markdown",
   "metadata": {},
   "source": [
    "*Comment 16: The number of workers that don't have English as first language is about **4.4X** time more than the workers with English as first language (accounts **81.6%**). This is an important notice to mention in the analysis, this can present a **BIAS** because it impacts the judgement of worker to label the English comment as aggression or not.*"
   ]
  },
  {
   "cell_type": "markdown",
   "metadata": {},
   "source": [
    "**Age group distribution**"
   ]
  },
  {
   "cell_type": "code",
   "execution_count": 45,
   "metadata": {},
   "outputs": [
    {
     "data": {
      "text/plain": [
       "18-30       1048\n",
       "30-45        831\n",
       "45-60        218\n",
       "Under 18      37\n",
       "Over 60       20\n",
       "Name: age_group, dtype: int64"
      ]
     },
     "execution_count": 45,
     "metadata": {},
     "output_type": "execute_result"
    }
   ],
   "source": [
    "# Distribution table\n",
    "df_aggression_dem['age_group'].value_counts()"
   ]
  },
  {
   "cell_type": "markdown",
   "metadata": {},
   "source": [
    "Let's look at the frequency table"
   ]
  },
  {
   "cell_type": "code",
   "execution_count": 46,
   "metadata": {},
   "outputs": [
    {
     "data": {
      "text/plain": [
       "18-30       0.486537\n",
       "30-45       0.385794\n",
       "45-60       0.101207\n",
       "Under 18    0.017177\n",
       "Over 60     0.009285\n",
       "Name: age_group, dtype: float64"
      ]
     },
     "execution_count": 46,
     "metadata": {},
     "output_type": "execute_result"
    }
   ],
   "source": [
    "# Frequency table\n",
    "x7 = df_aggression_dem['age_group'].value_counts()\n",
    "x7 / x7.sum()"
   ]
  },
  {
   "cell_type": "markdown",
   "metadata": {},
   "source": [
    "*Comment 17: The age distribution of the workers who labelled the aggression dataset shows that the vast majority of the data was labelled by people ages 18 - 45 which account **86%**. This is **BIAS** because the distribution is not equal across the age groups. We can see less representation for people who are older and younger than 45 and 18 respectively. Whether this is millenium generation, baby boom generation, generation X, etc. they each have different lived experiences which could affect their decision in what constitutes an aggression comment.*"
   ]
  },
  {
   "cell_type": "markdown",
   "metadata": {},
   "source": [
    "**Education distribution**"
   ]
  },
  {
   "cell_type": "code",
   "execution_count": 47,
   "metadata": {},
   "outputs": [
    {
     "data": {
      "text/plain": [
       "bachelors       861\n",
       "hs              631\n",
       "masters         385\n",
       "professional    243\n",
       "some             48\n",
       "doctorate        20\n",
       "none              1\n",
       "Name: education, dtype: int64"
      ]
     },
     "execution_count": 47,
     "metadata": {},
     "output_type": "execute_result"
    }
   ],
   "source": [
    "# Distribution table\n",
    "df_aggression_dem['education'].value_counts()"
   ]
  },
  {
   "cell_type": "markdown",
   "metadata": {},
   "source": [
    "Let's look at the frequency table"
   ]
  },
  {
   "cell_type": "code",
   "execution_count": 48,
   "metadata": {},
   "outputs": [
    {
     "data": {
      "text/plain": [
       "bachelors       0.393330\n",
       "hs              0.288259\n",
       "masters         0.175879\n",
       "professional    0.111010\n",
       "some            0.021928\n",
       "doctorate       0.009137\n",
       "none            0.000457\n",
       "Name: education, dtype: float64"
      ]
     },
     "execution_count": 48,
     "metadata": {},
     "output_type": "execute_result"
    }
   ],
   "source": [
    "# Frequency table\n",
    "x8 = df_aggression_dem['education'].value_counts()\n",
    "x8 / x8.sum()"
   ]
  },
  {
   "cell_type": "markdown",
   "metadata": {},
   "source": [
    "*Comment 18: We can see from the distribution that the higher education (bachelors + masters + doctorate = **57.8%**) which is more than half of the total worker education background. This is **BIAS** because different educstion background would impact the critical thinking and educational judgement on if the comment is aggression or not in this nature*"
   ]
  },
  {
   "cell_type": "markdown",
   "metadata": {},
   "source": [
    "### MERGE DATA: demographic data + aggression data\n",
    "\n",
    "Three separate data files are not helpful to unlock an insights. Therefore, we will merge all three data files into one final data frame. This will help us to see the relationship between data componnents"
   ]
  },
  {
   "cell_type": "code",
   "execution_count": 49,
   "metadata": {},
   "outputs": [],
   "source": [
    "# Merge the data frame of aggression annotation and demographic worker\n",
    "df_aggression_ann_dem = pd.merge(df_aggression_ann, df_aggression_dem, on = 'worker_id', how = 'outer')\n",
    "\n",
    "# Merge the result with the comment data frame\n",
    "df_aggression_final = pd.merge(df_aggression_ann_dem, df_aggression_com, on = 'rev_id', how = 'outer')"
   ]
  },
  {
   "cell_type": "markdown",
   "metadata": {},
   "source": [
    "Viewing final data"
   ]
  },
  {
   "cell_type": "code",
   "execution_count": 50,
   "metadata": {},
   "outputs": [
    {
     "data": {
      "text/html": [
       "<div>\n",
       "<style scoped>\n",
       "    .dataframe tbody tr th:only-of-type {\n",
       "        vertical-align: middle;\n",
       "    }\n",
       "\n",
       "    .dataframe tbody tr th {\n",
       "        vertical-align: top;\n",
       "    }\n",
       "\n",
       "    .dataframe thead th {\n",
       "        text-align: right;\n",
       "    }\n",
       "</style>\n",
       "<table border=\"1\" class=\"dataframe\">\n",
       "  <thead>\n",
       "    <tr style=\"text-align: right;\">\n",
       "      <th></th>\n",
       "      <th>rev_id</th>\n",
       "      <th>worker_id</th>\n",
       "      <th>aggression</th>\n",
       "      <th>aggression_score</th>\n",
       "      <th>gender</th>\n",
       "      <th>english_first_language</th>\n",
       "      <th>age_group</th>\n",
       "      <th>education</th>\n",
       "      <th>comment</th>\n",
       "      <th>year</th>\n",
       "      <th>logged_in</th>\n",
       "      <th>ns</th>\n",
       "      <th>sample</th>\n",
       "      <th>split</th>\n",
       "    </tr>\n",
       "  </thead>\n",
       "  <tbody>\n",
       "    <tr>\n",
       "      <th>0</th>\n",
       "      <td>37675</td>\n",
       "      <td>1362</td>\n",
       "      <td>1</td>\n",
       "      <td>-1</td>\n",
       "      <td>male</td>\n",
       "      <td>0.0</td>\n",
       "      <td>18-30</td>\n",
       "      <td>masters</td>\n",
       "      <td>`- This is not ``creative``.  Those are the di...</td>\n",
       "      <td>2002</td>\n",
       "      <td>True</td>\n",
       "      <td>article</td>\n",
       "      <td>random</td>\n",
       "      <td>train</td>\n",
       "    </tr>\n",
       "    <tr>\n",
       "      <th>1</th>\n",
       "      <td>37675</td>\n",
       "      <td>2408</td>\n",
       "      <td>0</td>\n",
       "      <td>1</td>\n",
       "      <td>male</td>\n",
       "      <td>1.0</td>\n",
       "      <td>30-45</td>\n",
       "      <td>hs</td>\n",
       "      <td>`- This is not ``creative``.  Those are the di...</td>\n",
       "      <td>2002</td>\n",
       "      <td>True</td>\n",
       "      <td>article</td>\n",
       "      <td>random</td>\n",
       "      <td>train</td>\n",
       "    </tr>\n",
       "    <tr>\n",
       "      <th>2</th>\n",
       "      <td>37675</td>\n",
       "      <td>1493</td>\n",
       "      <td>0</td>\n",
       "      <td>0</td>\n",
       "      <td>female</td>\n",
       "      <td>0.0</td>\n",
       "      <td>30-45</td>\n",
       "      <td>bachelors</td>\n",
       "      <td>`- This is not ``creative``.  Those are the di...</td>\n",
       "      <td>2002</td>\n",
       "      <td>True</td>\n",
       "      <td>article</td>\n",
       "      <td>random</td>\n",
       "      <td>train</td>\n",
       "    </tr>\n",
       "    <tr>\n",
       "      <th>3</th>\n",
       "      <td>37675</td>\n",
       "      <td>1439</td>\n",
       "      <td>0</td>\n",
       "      <td>0</td>\n",
       "      <td>male</td>\n",
       "      <td>0.0</td>\n",
       "      <td>18-30</td>\n",
       "      <td>hs</td>\n",
       "      <td>`- This is not ``creative``.  Those are the di...</td>\n",
       "      <td>2002</td>\n",
       "      <td>True</td>\n",
       "      <td>article</td>\n",
       "      <td>random</td>\n",
       "      <td>train</td>\n",
       "    </tr>\n",
       "    <tr>\n",
       "      <th>4</th>\n",
       "      <td>37675</td>\n",
       "      <td>170</td>\n",
       "      <td>0</td>\n",
       "      <td>0</td>\n",
       "      <td>NaN</td>\n",
       "      <td>NaN</td>\n",
       "      <td>NaN</td>\n",
       "      <td>NaN</td>\n",
       "      <td>`- This is not ``creative``.  Those are the di...</td>\n",
       "      <td>2002</td>\n",
       "      <td>True</td>\n",
       "      <td>article</td>\n",
       "      <td>random</td>\n",
       "      <td>train</td>\n",
       "    </tr>\n",
       "  </tbody>\n",
       "</table>\n",
       "</div>"
      ],
      "text/plain": [
       "   rev_id  worker_id  aggression  aggression_score  gender  \\\n",
       "0   37675       1362           1                -1    male   \n",
       "1   37675       2408           0                 1    male   \n",
       "2   37675       1493           0                 0  female   \n",
       "3   37675       1439           0                 0    male   \n",
       "4   37675        170           0                 0     NaN   \n",
       "\n",
       "   english_first_language age_group  education  \\\n",
       "0                     0.0     18-30    masters   \n",
       "1                     1.0     30-45         hs   \n",
       "2                     0.0     30-45  bachelors   \n",
       "3                     0.0     18-30         hs   \n",
       "4                     NaN       NaN        NaN   \n",
       "\n",
       "                                             comment  year  logged_in  \\\n",
       "0  `- This is not ``creative``.  Those are the di...  2002       True   \n",
       "1  `- This is not ``creative``.  Those are the di...  2002       True   \n",
       "2  `- This is not ``creative``.  Those are the di...  2002       True   \n",
       "3  `- This is not ``creative``.  Those are the di...  2002       True   \n",
       "4  `- This is not ``creative``.  Those are the di...  2002       True   \n",
       "\n",
       "        ns  sample  split  \n",
       "0  article  random  train  \n",
       "1  article  random  train  \n",
       "2  article  random  train  \n",
       "3  article  random  train  \n",
       "4  article  random  train  "
      ]
     },
     "execution_count": 50,
     "metadata": {},
     "output_type": "execute_result"
    }
   ],
   "source": [
    "df_aggression_final.head()"
   ]
  },
  {
   "cell_type": "markdown",
   "metadata": {},
   "source": [
    "From observation of dataset, there are some NaN values. Let's find out in the dataset about these NaN for these workers"
   ]
  },
  {
   "cell_type": "code",
   "execution_count": 51,
   "metadata": {},
   "outputs": [
    {
     "data": {
      "text/plain": [
       "rev_id                         0\n",
       "worker_id                      0\n",
       "aggression                     0\n",
       "aggression_score               0\n",
       "gender                    509786\n",
       "english_first_language    509786\n",
       "age_group                 521793\n",
       "education                 509786\n",
       "comment                        0\n",
       "year                           0\n",
       "logged_in                      0\n",
       "ns                             0\n",
       "sample                         0\n",
       "split                          0\n",
       "dtype: int64"
      ]
     },
     "execution_count": 51,
     "metadata": {},
     "output_type": "execute_result"
    }
   ],
   "source": [
    "# count the number of NaN value from the final dataset\n",
    "aggression_count_NaN = df_aggression_final.isnull().sum()\n",
    "aggression_count_NaN"
   ]
  },
  {
   "cell_type": "markdown",
   "metadata": {},
   "source": [
    "*Comment 19: there are four places the NaN values show up in the merge dataset. Any data with NaN in the dataset won't be helpful and can create a distortion which impacts the data quality overall. We need to drop these NaN (not a number rows) from the data frame since it won't be helpful for the analysis.*"
   ]
  },
  {
   "cell_type": "code",
   "execution_count": 52,
   "metadata": {},
   "outputs": [
    {
     "data": {
      "text/html": [
       "<div>\n",
       "<style scoped>\n",
       "    .dataframe tbody tr th:only-of-type {\n",
       "        vertical-align: middle;\n",
       "    }\n",
       "\n",
       "    .dataframe tbody tr th {\n",
       "        vertical-align: top;\n",
       "    }\n",
       "\n",
       "    .dataframe thead th {\n",
       "        text-align: right;\n",
       "    }\n",
       "</style>\n",
       "<table border=\"1\" class=\"dataframe\">\n",
       "  <thead>\n",
       "    <tr style=\"text-align: right;\">\n",
       "      <th></th>\n",
       "      <th>rev_id</th>\n",
       "      <th>worker_id</th>\n",
       "      <th>aggression</th>\n",
       "      <th>aggression_score</th>\n",
       "      <th>gender</th>\n",
       "      <th>english_first_language</th>\n",
       "      <th>age_group</th>\n",
       "      <th>education</th>\n",
       "      <th>comment</th>\n",
       "      <th>year</th>\n",
       "      <th>logged_in</th>\n",
       "      <th>ns</th>\n",
       "      <th>sample</th>\n",
       "      <th>split</th>\n",
       "    </tr>\n",
       "  </thead>\n",
       "  <tbody>\n",
       "    <tr>\n",
       "      <th>0</th>\n",
       "      <td>37675</td>\n",
       "      <td>1362</td>\n",
       "      <td>1</td>\n",
       "      <td>-1</td>\n",
       "      <td>male</td>\n",
       "      <td>0.0</td>\n",
       "      <td>18-30</td>\n",
       "      <td>masters</td>\n",
       "      <td>`- This is not ``creative``.  Those are the di...</td>\n",
       "      <td>2002</td>\n",
       "      <td>True</td>\n",
       "      <td>article</td>\n",
       "      <td>random</td>\n",
       "      <td>train</td>\n",
       "    </tr>\n",
       "    <tr>\n",
       "      <th>1</th>\n",
       "      <td>37675</td>\n",
       "      <td>2408</td>\n",
       "      <td>0</td>\n",
       "      <td>1</td>\n",
       "      <td>male</td>\n",
       "      <td>1.0</td>\n",
       "      <td>30-45</td>\n",
       "      <td>hs</td>\n",
       "      <td>`- This is not ``creative``.  Those are the di...</td>\n",
       "      <td>2002</td>\n",
       "      <td>True</td>\n",
       "      <td>article</td>\n",
       "      <td>random</td>\n",
       "      <td>train</td>\n",
       "    </tr>\n",
       "    <tr>\n",
       "      <th>2</th>\n",
       "      <td>37675</td>\n",
       "      <td>1493</td>\n",
       "      <td>0</td>\n",
       "      <td>0</td>\n",
       "      <td>female</td>\n",
       "      <td>0.0</td>\n",
       "      <td>30-45</td>\n",
       "      <td>bachelors</td>\n",
       "      <td>`- This is not ``creative``.  Those are the di...</td>\n",
       "      <td>2002</td>\n",
       "      <td>True</td>\n",
       "      <td>article</td>\n",
       "      <td>random</td>\n",
       "      <td>train</td>\n",
       "    </tr>\n",
       "    <tr>\n",
       "      <th>3</th>\n",
       "      <td>37675</td>\n",
       "      <td>1439</td>\n",
       "      <td>0</td>\n",
       "      <td>0</td>\n",
       "      <td>male</td>\n",
       "      <td>0.0</td>\n",
       "      <td>18-30</td>\n",
       "      <td>hs</td>\n",
       "      <td>`- This is not ``creative``.  Those are the di...</td>\n",
       "      <td>2002</td>\n",
       "      <td>True</td>\n",
       "      <td>article</td>\n",
       "      <td>random</td>\n",
       "      <td>train</td>\n",
       "    </tr>\n",
       "    <tr>\n",
       "      <th>5</th>\n",
       "      <td>37675</td>\n",
       "      <td>176</td>\n",
       "      <td>0</td>\n",
       "      <td>0</td>\n",
       "      <td>male</td>\n",
       "      <td>0.0</td>\n",
       "      <td>18-30</td>\n",
       "      <td>hs</td>\n",
       "      <td>`- This is not ``creative``.  Those are the di...</td>\n",
       "      <td>2002</td>\n",
       "      <td>True</td>\n",
       "      <td>article</td>\n",
       "      <td>random</td>\n",
       "      <td>train</td>\n",
       "    </tr>\n",
       "  </tbody>\n",
       "</table>\n",
       "</div>"
      ],
      "text/plain": [
       "   rev_id  worker_id  aggression  aggression_score  gender  \\\n",
       "0   37675       1362           1                -1    male   \n",
       "1   37675       2408           0                 1    male   \n",
       "2   37675       1493           0                 0  female   \n",
       "3   37675       1439           0                 0    male   \n",
       "5   37675        176           0                 0    male   \n",
       "\n",
       "   english_first_language age_group  education  \\\n",
       "0                     0.0     18-30    masters   \n",
       "1                     1.0     30-45         hs   \n",
       "2                     0.0     30-45  bachelors   \n",
       "3                     0.0     18-30         hs   \n",
       "5                     0.0     18-30         hs   \n",
       "\n",
       "                                             comment  year  logged_in  \\\n",
       "0  `- This is not ``creative``.  Those are the di...  2002       True   \n",
       "1  `- This is not ``creative``.  Those are the di...  2002       True   \n",
       "2  `- This is not ``creative``.  Those are the di...  2002       True   \n",
       "3  `- This is not ``creative``.  Those are the di...  2002       True   \n",
       "5  `- This is not ``creative``.  Those are the di...  2002       True   \n",
       "\n",
       "        ns  sample  split  \n",
       "0  article  random  train  \n",
       "1  article  random  train  \n",
       "2  article  random  train  \n",
       "3  article  random  train  \n",
       "5  article  random  train  "
      ]
     },
     "execution_count": 52,
     "metadata": {},
     "output_type": "execute_result"
    }
   ],
   "source": [
    "# Drop rows with NaN values from the final data frame\n",
    "df_aggression_new_final = df_aggression_final.dropna()\n",
    "df_aggression_new_final.head()"
   ]
  },
  {
   "cell_type": "markdown",
   "metadata": {},
   "source": [
    "### EVALUATE: demographic data + aggression data"
   ]
  },
  {
   "cell_type": "markdown",
   "metadata": {},
   "source": [
    "Let's check the kernel density plot of aggression score to see how it plays out"
   ]
  },
  {
   "cell_type": "code",
   "execution_count": 53,
   "metadata": {},
   "outputs": [
    {
     "data": {
      "image/png": "[encoded data removed]",
      "text/plain": [
       "<Figure size 1152x576 with 1 Axes>"
      ]
     },
     "metadata": {},
     "output_type": "display_data"
    }
   ],
   "source": [
    "fig = plt.gcf()\n",
    "fig.set_size_inches(16, 8)\n",
    "\n",
    "# Kernel Density Plot\n",
    "sn.kdeplot(df_aggression_new_final['aggression_score'], shade=True, color='g', \n",
    "           bw = 1/(np.max(df_aggression_new_final['aggression_score'])-np.min(df_aggression_new_final['aggression_score'])));\n",
    "\n",
    "plt.title('Kernel Density Chart: Distribution of Aggression Score')\n",
    "\n",
    "# Save the plot into a JPG picture file. The file will be saved in the same working directory of my Jupyter notebook.\n",
    "# The path location will be different on your machine. Feel free to update the directory to your choice.\n",
    "plt.savefig('A2_chart_aggression_score-kernel-density.jpg', bbox_inches='tight', dpi=80)"
   ]
  },
  {
   "cell_type": "markdown",
   "metadata": {},
   "source": [
    "*Comment 20: Categorical variable ranging from very aggression (-3), to neutral (0), to very healthy (3)*\n",
    "\n",
    "*From the kernel density plot, we see that majority of aggression score are **neutral (0)** comment.*\n",
    "\n",
    "*However, in order to get deeper into the insights to see potential bias, we need to see aggression score with other data fields. Let's check the correlation to see if there are any useful information*"
   ]
  },
  {
   "cell_type": "code",
   "execution_count": 54,
   "metadata": {},
   "outputs": [
    {
     "data": {
      "image/png": "[encoded data removed]",
      "text/plain": [
       "<Figure size 720x576 with 2 Axes>"
      ]
     },
     "metadata": {},
     "output_type": "display_data"
    }
   ],
   "source": [
    "# Plot the correlation matrix\n",
    "fig, ax = plt.subplots(figsize=(10,8))\n",
    "\n",
    "corrMatrix_aggression = df_aggression_new_final.corr()\n",
    "\n",
    "sn.heatmap(corrMatrix_aggression, annot=True, cmap=\"Greens\")\n",
    "\n",
    "plt.title(\"Correlation Matrix Plot: Aggression Score\")\n",
    "\n",
    "# Save the plot into a JPG picture file. The file will be saved in the same working directory of my Jupyter notebook.\n",
    "# The path location will be different on your machine. Feel free to update the directory to your choice.\n",
    "plt.savefig('A2_chart_aggression_score-correlation_matrix.jpg', bbox_inches='tight', dpi=80)\n",
    "\n",
    "plt.show()"
   ]
  },
  {
   "cell_type": "markdown",
   "metadata": {},
   "source": [
    "*Comment 21: From the correlation matrix, we can see there are not much correlation among the **numeric data fields** that impacts the aggression_score with more than 0.5*\n",
    "\n",
    "*This helps us to narrow down the scope and focus on the **categorical data fields** for bias with the following data fields: gender, age group, and education*"
   ]
  },
  {
   "cell_type": "markdown",
   "metadata": {},
   "source": [
    "**Evaluate: Gender + Aggression Score**"
   ]
  },
  {
   "cell_type": "markdown",
   "metadata": {},
   "source": [
    "Generate a pivot table between data fields and broken down gender into the aggression score range"
   ]
  },
  {
   "cell_type": "code",
   "execution_count": 55,
   "metadata": {},
   "outputs": [
    {
     "data": {
      "text/html": [
       "<div>\n",
       "<style scoped>\n",
       "    .dataframe tbody tr th:only-of-type {\n",
       "        vertical-align: middle;\n",
       "    }\n",
       "\n",
       "    .dataframe tbody tr th {\n",
       "        vertical-align: top;\n",
       "    }\n",
       "\n",
       "    .dataframe thead th {\n",
       "        text-align: right;\n",
       "    }\n",
       "</style>\n",
       "<table border=\"1\" class=\"dataframe\">\n",
       "  <thead>\n",
       "    <tr style=\"text-align: right;\">\n",
       "      <th>aggression_score</th>\n",
       "      <th>-3</th>\n",
       "      <th>-2</th>\n",
       "      <th>-1</th>\n",
       "      <th>0</th>\n",
       "      <th>1</th>\n",
       "      <th>2</th>\n",
       "      <th>3</th>\n",
       "    </tr>\n",
       "    <tr>\n",
       "      <th>gender</th>\n",
       "      <th></th>\n",
       "      <th></th>\n",
       "      <th></th>\n",
       "      <th></th>\n",
       "      <th></th>\n",
       "      <th></th>\n",
       "      <th></th>\n",
       "    </tr>\n",
       "  </thead>\n",
       "  <tbody>\n",
       "    <tr>\n",
       "      <th>female</th>\n",
       "      <td>14206</td>\n",
       "      <td>13569</td>\n",
       "      <td>32451</td>\n",
       "      <td>223651</td>\n",
       "      <td>15303</td>\n",
       "      <td>4669</td>\n",
       "      <td>2129</td>\n",
       "    </tr>\n",
       "    <tr>\n",
       "      <th>male</th>\n",
       "      <td>21204</td>\n",
       "      <td>23456</td>\n",
       "      <td>50059</td>\n",
       "      <td>390821</td>\n",
       "      <td>35623</td>\n",
       "      <td>11960</td>\n",
       "      <td>4323</td>\n",
       "    </tr>\n",
       "  </tbody>\n",
       "</table>\n",
       "</div>"
      ],
      "text/plain": [
       "aggression_score     -3     -2     -1       0      1      2     3\n",
       "gender                                                           \n",
       "female            14206  13569  32451  223651  15303   4669  2129\n",
       "male              21204  23456  50059  390821  35623  11960  4323"
      ]
     },
     "execution_count": 55,
     "metadata": {},
     "output_type": "execute_result"
    }
   ],
   "source": [
    "# Transform the data into pivot table format for detail analysis\n",
    "aggression_tab_gender = pd.crosstab(df_aggression_new_final['gender'], \n",
    "                                    columns = df_aggression_new_final['aggression_score'])\n",
    "aggression_tab_gender"
   ]
  },
  {
   "cell_type": "code",
   "execution_count": 56,
   "metadata": {},
   "outputs": [
    {
     "data": {
      "text/html": [
       "<div>\n",
       "<style scoped>\n",
       "    .dataframe tbody tr th:only-of-type {\n",
       "        vertical-align: middle;\n",
       "    }\n",
       "\n",
       "    .dataframe tbody tr th {\n",
       "        vertical-align: top;\n",
       "    }\n",
       "\n",
       "    .dataframe thead th {\n",
       "        text-align: right;\n",
       "    }\n",
       "</style>\n",
       "<table border=\"1\" class=\"dataframe\">\n",
       "  <thead>\n",
       "    <tr style=\"text-align: right;\">\n",
       "      <th>aggression_score</th>\n",
       "      <th>-3</th>\n",
       "      <th>-2</th>\n",
       "      <th>-1</th>\n",
       "      <th>0</th>\n",
       "      <th>1</th>\n",
       "      <th>2</th>\n",
       "      <th>3</th>\n",
       "    </tr>\n",
       "    <tr>\n",
       "      <th>gender</th>\n",
       "      <th></th>\n",
       "      <th></th>\n",
       "      <th></th>\n",
       "      <th></th>\n",
       "      <th></th>\n",
       "      <th></th>\n",
       "      <th></th>\n",
       "    </tr>\n",
       "  </thead>\n",
       "  <tbody>\n",
       "    <tr>\n",
       "      <th>female</th>\n",
       "      <td>0.401186</td>\n",
       "      <td>0.366482</td>\n",
       "      <td>0.393298</td>\n",
       "      <td>0.363973</td>\n",
       "      <td>0.300495</td>\n",
       "      <td>0.280775</td>\n",
       "      <td>0.329975</td>\n",
       "    </tr>\n",
       "    <tr>\n",
       "      <th>male</th>\n",
       "      <td>0.598814</td>\n",
       "      <td>0.633518</td>\n",
       "      <td>0.606702</td>\n",
       "      <td>0.636027</td>\n",
       "      <td>0.699505</td>\n",
       "      <td>0.719225</td>\n",
       "      <td>0.670025</td>\n",
       "    </tr>\n",
       "  </tbody>\n",
       "</table>\n",
       "</div>"
      ],
      "text/plain": [
       "aggression_score        -3        -2        -1         0         1         2  \\\n",
       "gender                                                                         \n",
       "female            0.401186  0.366482  0.393298  0.363973  0.300495  0.280775   \n",
       "male              0.598814  0.633518  0.606702  0.636027  0.699505  0.719225   \n",
       "\n",
       "aggression_score         3  \n",
       "gender                      \n",
       "female            0.329975  \n",
       "male              0.670025  "
      ]
     },
     "execution_count": 56,
     "metadata": {},
     "output_type": "execute_result"
    }
   ],
   "source": [
    "# Viewing details from total distribution by aggression score bucket\n",
    "aggression_tab_gender / aggression_tab_gender.sum()"
   ]
  },
  {
   "cell_type": "markdown",
   "metadata": {},
   "source": [
    "*Comment 22: As we found out earlier, there is **BIAS** of gender-balanced among workers especially male. This influenced factor carries out to the aggression score outcome. On average, male workers are **65%** to show **BIAS** one way or the other (toxic, neutral, healthy)*\n",
    "\n",
    "*The misrepresentation of worker population in labelling the comment is **BIAS** in this nature because different gender identity impacts the way people think and judge matters in life.*"
   ]
  },
  {
   "cell_type": "markdown",
   "metadata": {},
   "source": [
    "Visualize this findings by plotting a chart below"
   ]
  },
  {
   "cell_type": "code",
   "execution_count": 57,
   "metadata": {},
   "outputs": [
    {
     "data": {
      "image/png": "[encoded data removed]",
      "text/plain": [
       "<Figure size 1152x576 with 1 Axes>"
      ]
     },
     "metadata": {},
     "output_type": "display_data"
    }
   ],
   "source": [
    "# Plot an aggregate visualization to answer the exploratory question\n",
    "df_aggression_new_final[['gender', 'aggression_score']].groupby('gender').agg(['mean']).plot.bar()\n",
    "fig = plt.gcf()\n",
    "fig.set_size_inches(16, 8)\n",
    "plt.title(\"Average aggression score by GENDER\")\n",
    "plt.xlabel('gender')\n",
    "plt.ylabel('mean aggression_score')\n",
    "plt.legend(loc=4)\n",
    "\n",
    "# Save the plot into a JPG picture file. The file will be saved in the same working directory of my Jupyter notebook.\n",
    "# The path location will be different on your machine. Feel free to update the directory to your choice.\n",
    "plt.savefig('A2_chart_gender-aggression_score.jpg', bbox_inches='tight', dpi=80)\n",
    "\n",
    "plt.show()"
   ]
  },
  {
   "cell_type": "markdown",
   "metadata": {},
   "source": [
    "**Evaluate: Age group + Aggression Score**"
   ]
  },
  {
   "cell_type": "markdown",
   "metadata": {},
   "source": [
    "Generate a pivot table between data fields and broken down age group into the aggression score range"
   ]
  },
  {
   "cell_type": "code",
   "execution_count": 58,
   "metadata": {},
   "outputs": [
    {
     "data": {
      "text/html": [
       "<div>\n",
       "<style scoped>\n",
       "    .dataframe tbody tr th:only-of-type {\n",
       "        vertical-align: middle;\n",
       "    }\n",
       "\n",
       "    .dataframe tbody tr th {\n",
       "        vertical-align: top;\n",
       "    }\n",
       "\n",
       "    .dataframe thead th {\n",
       "        text-align: right;\n",
       "    }\n",
       "</style>\n",
       "<table border=\"1\" class=\"dataframe\">\n",
       "  <thead>\n",
       "    <tr style=\"text-align: right;\">\n",
       "      <th>aggression_score</th>\n",
       "      <th>-3</th>\n",
       "      <th>-2</th>\n",
       "      <th>-1</th>\n",
       "      <th>0</th>\n",
       "      <th>1</th>\n",
       "      <th>2</th>\n",
       "      <th>3</th>\n",
       "    </tr>\n",
       "    <tr>\n",
       "      <th>age_group</th>\n",
       "      <th></th>\n",
       "      <th></th>\n",
       "      <th></th>\n",
       "      <th></th>\n",
       "      <th></th>\n",
       "      <th></th>\n",
       "      <th></th>\n",
       "    </tr>\n",
       "  </thead>\n",
       "  <tbody>\n",
       "    <tr>\n",
       "      <th>18-30</th>\n",
       "      <td>16820</td>\n",
       "      <td>16174</td>\n",
       "      <td>32530</td>\n",
       "      <td>295606</td>\n",
       "      <td>20268</td>\n",
       "      <td>7276</td>\n",
       "      <td>2435</td>\n",
       "    </tr>\n",
       "    <tr>\n",
       "      <th>30-45</th>\n",
       "      <td>14051</td>\n",
       "      <td>16149</td>\n",
       "      <td>37873</td>\n",
       "      <td>254969</td>\n",
       "      <td>23796</td>\n",
       "      <td>7513</td>\n",
       "      <td>3233</td>\n",
       "    </tr>\n",
       "    <tr>\n",
       "      <th>45-60</th>\n",
       "      <td>3865</td>\n",
       "      <td>3826</td>\n",
       "      <td>10550</td>\n",
       "      <td>51976</td>\n",
       "      <td>5109</td>\n",
       "      <td>1369</td>\n",
       "      <td>618</td>\n",
       "    </tr>\n",
       "    <tr>\n",
       "      <th>Over 60</th>\n",
       "      <td>402</td>\n",
       "      <td>559</td>\n",
       "      <td>894</td>\n",
       "      <td>5002</td>\n",
       "      <td>579</td>\n",
       "      <td>314</td>\n",
       "      <td>91</td>\n",
       "    </tr>\n",
       "    <tr>\n",
       "      <th>Under 18</th>\n",
       "      <td>272</td>\n",
       "      <td>317</td>\n",
       "      <td>663</td>\n",
       "      <td>6919</td>\n",
       "      <td>1174</td>\n",
       "      <td>157</td>\n",
       "      <td>75</td>\n",
       "    </tr>\n",
       "  </tbody>\n",
       "</table>\n",
       "</div>"
      ],
      "text/plain": [
       "aggression_score     -3     -2     -1       0      1     2     3\n",
       "age_group                                                       \n",
       "18-30             16820  16174  32530  295606  20268  7276  2435\n",
       "30-45             14051  16149  37873  254969  23796  7513  3233\n",
       "45-60              3865   3826  10550   51976   5109  1369   618\n",
       "Over 60             402    559    894    5002    579   314    91\n",
       "Under 18            272    317    663    6919   1174   157    75"
      ]
     },
     "execution_count": 58,
     "metadata": {},
     "output_type": "execute_result"
    }
   ],
   "source": [
    "# Transform the data into pivot table format for detail analysis\n",
    "aggression_tab_age_group = pd.crosstab(df_aggression_new_final['age_group'], \n",
    "                                       columns = df_aggression_new_final['aggression_score'])\n",
    "aggression_tab_age_group"
   ]
  },
  {
   "cell_type": "code",
   "execution_count": 59,
   "metadata": {},
   "outputs": [
    {
     "data": {
      "text/html": [
       "<div>\n",
       "<style scoped>\n",
       "    .dataframe tbody tr th:only-of-type {\n",
       "        vertical-align: middle;\n",
       "    }\n",
       "\n",
       "    .dataframe tbody tr th {\n",
       "        vertical-align: top;\n",
       "    }\n",
       "\n",
       "    .dataframe thead th {\n",
       "        text-align: right;\n",
       "    }\n",
       "</style>\n",
       "<table border=\"1\" class=\"dataframe\">\n",
       "  <thead>\n",
       "    <tr style=\"text-align: right;\">\n",
       "      <th>aggression_score</th>\n",
       "      <th>-3</th>\n",
       "      <th>-2</th>\n",
       "      <th>-1</th>\n",
       "      <th>0</th>\n",
       "      <th>1</th>\n",
       "      <th>2</th>\n",
       "      <th>3</th>\n",
       "    </tr>\n",
       "    <tr>\n",
       "      <th>age_group</th>\n",
       "      <th></th>\n",
       "      <th></th>\n",
       "      <th></th>\n",
       "      <th></th>\n",
       "      <th></th>\n",
       "      <th></th>\n",
       "      <th></th>\n",
       "    </tr>\n",
       "  </thead>\n",
       "  <tbody>\n",
       "    <tr>\n",
       "      <th>18-30</th>\n",
       "      <td>0.475007</td>\n",
       "      <td>0.436840</td>\n",
       "      <td>0.394255</td>\n",
       "      <td>0.481073</td>\n",
       "      <td>0.397989</td>\n",
       "      <td>0.437549</td>\n",
       "      <td>0.377402</td>\n",
       "    </tr>\n",
       "    <tr>\n",
       "      <th>30-45</th>\n",
       "      <td>0.396809</td>\n",
       "      <td>0.436165</td>\n",
       "      <td>0.459011</td>\n",
       "      <td>0.414940</td>\n",
       "      <td>0.467266</td>\n",
       "      <td>0.451801</td>\n",
       "      <td>0.501085</td>\n",
       "    </tr>\n",
       "    <tr>\n",
       "      <th>45-60</th>\n",
       "      <td>0.109150</td>\n",
       "      <td>0.103336</td>\n",
       "      <td>0.127863</td>\n",
       "      <td>0.084586</td>\n",
       "      <td>0.100322</td>\n",
       "      <td>0.082326</td>\n",
       "      <td>0.095784</td>\n",
       "    </tr>\n",
       "    <tr>\n",
       "      <th>Over 60</th>\n",
       "      <td>0.011353</td>\n",
       "      <td>0.015098</td>\n",
       "      <td>0.010835</td>\n",
       "      <td>0.008140</td>\n",
       "      <td>0.011369</td>\n",
       "      <td>0.018883</td>\n",
       "      <td>0.014104</td>\n",
       "    </tr>\n",
       "    <tr>\n",
       "      <th>Under 18</th>\n",
       "      <td>0.007681</td>\n",
       "      <td>0.008562</td>\n",
       "      <td>0.008035</td>\n",
       "      <td>0.011260</td>\n",
       "      <td>0.023053</td>\n",
       "      <td>0.009441</td>\n",
       "      <td>0.011624</td>\n",
       "    </tr>\n",
       "  </tbody>\n",
       "</table>\n",
       "</div>"
      ],
      "text/plain": [
       "aggression_score        -3        -2        -1         0         1         2  \\\n",
       "age_group                                                                      \n",
       "18-30             0.475007  0.436840  0.394255  0.481073  0.397989  0.437549   \n",
       "30-45             0.396809  0.436165  0.459011  0.414940  0.467266  0.451801   \n",
       "45-60             0.109150  0.103336  0.127863  0.084586  0.100322  0.082326   \n",
       "Over 60           0.011353  0.015098  0.010835  0.008140  0.011369  0.018883   \n",
       "Under 18          0.007681  0.008562  0.008035  0.011260  0.023053  0.009441   \n",
       "\n",
       "aggression_score         3  \n",
       "age_group                   \n",
       "18-30             0.377402  \n",
       "30-45             0.501085  \n",
       "45-60             0.095784  \n",
       "Over 60           0.014104  \n",
       "Under 18          0.011624  "
      ]
     },
     "execution_count": 59,
     "metadata": {},
     "output_type": "execute_result"
    }
   ],
   "source": [
    "# Viewing details from total distribution by aggression score bucket\n",
    "aggression_tab_age_group / aggression_tab_age_group.sum()"
   ]
  },
  {
   "cell_type": "markdown",
   "metadata": {},
   "source": [
    "*Comment 23: the result is consistent with what we expected from earlier analysis. Ages between 18 and 45 hold around **86%** in general and is fairly consistent among aggression score buckets*\n",
    "\n",
    "*This disproportion of the population creates **BIAS** in the overall dataset*\n",
    "\n",
    "*- Older people (over 60) with more experience in life will have a different judgement on toxic comment.*\n",
    "\n",
    "*- Younger people (under 18) as teenager with less experience in life will also have a different judgement on toxic comment.*\n",
    "\n",
    "*- Middle people (18 - 60) will also have a different judgement on toxic comment.*"
   ]
  },
  {
   "cell_type": "markdown",
   "metadata": {},
   "source": [
    "Visualize this findings by plotting a chart below"
   ]
  },
  {
   "cell_type": "code",
   "execution_count": 60,
   "metadata": {},
   "outputs": [
    {
     "data": {
      "image/png": "[encoded data removed]",
      "text/plain": [
       "<Figure size 1152x576 with 1 Axes>"
      ]
     },
     "metadata": {},
     "output_type": "display_data"
    }
   ],
   "source": [
    "df_aggression_new_final[['age_group', 'aggression_score']].groupby('age_group').agg(['mean']).plot.bar()\n",
    "fig = plt.gcf()\n",
    "fig.set_size_inches(16, 8)\n",
    "plt.title(\"Average aggression score by AGE GROUP\")\n",
    "plt.xlabel('Age Group')\n",
    "plt.ylabel('mean aggression_score')\n",
    "plt.legend(loc=3)\n",
    "\n",
    "# Save the plot into a JPG picture file. The file will be saved in the same working directory of my Jupyter notebook.\n",
    "# The path location will be different on your machine. Feel free to update the directory to your choice.\n",
    "plt.savefig('A2_chart_age_group-aggression_score.jpg', bbox_inches='tight', dpi=80)\n",
    "\n",
    "plt.show()"
   ]
  },
  {
   "cell_type": "markdown",
   "metadata": {},
   "source": [
    "Let's go one step further by incorporate one more dimension into the visualization to make it multivariate chart.\n",
    "\n",
    "3D = 3 dimensional variables (age group + aggression score + education)"
   ]
  },
  {
   "cell_type": "code",
   "execution_count": 61,
   "metadata": {},
   "outputs": [
    {
     "data": {
      "image/png": "[encoded data removed]",
      "text/plain": [
       "<Figure size 1152x576 with 1 Axes>"
      ]
     },
     "metadata": {},
     "output_type": "display_data"
    }
   ],
   "source": [
    "fig = plt.gcf()\n",
    "fig.set_size_inches(16, 8)\n",
    "\n",
    "sn.set(style=\"whitegrid\")\n",
    "\n",
    "### Violin plot\n",
    "sn.violinplot(df_aggression_new_final['age_group'], \n",
    "               df_aggression_new_final['aggression_score'],\n",
    "               hue = df_aggression_new_final['education'],\n",
    "               shade = True,\n",
    "               linewidth = 0.5);\n",
    "\n",
    "plt.title('Multivariate Chart: Impact of Age Group and Education on Aggression Score')\n",
    "\n",
    "# Save the plot into a JPG picture file. The file will be saved in the same working directory of my Jupyter notebook.\n",
    "# The path location will be different on your machine. Feel free to update the directory to your choice.\n",
    "plt.savefig('A2_chart_age_group-aggression_score-education.jpg', bbox_inches='tight', dpi=80)"
   ]
  },
  {
   "cell_type": "markdown",
   "metadata": {},
   "source": [
    "*Comment 24: With only two dimension variables (age group, aggression score), we wonder why under 18 stood out from the rest of the other age group from the previous chart.*\n",
    "\n",
    "*Now with 3D chart (age group, aggression score, education), we see the reason of why and the **BIAS** it produces. This violin chart reveals a missing \"professional\" and \"doctorate\" education background data point. This bolsten the **BIAS** finding in labeling aggression comment by age group from education background view*"
   ]
  },
  {
   "cell_type": "markdown",
   "metadata": {},
   "source": [
    "**Evaluate: Education + Aggression Score**"
   ]
  },
  {
   "cell_type": "markdown",
   "metadata": {},
   "source": [
    "Generate a pivot table between data fields and broken down education into the aggression score range"
   ]
  },
  {
   "cell_type": "code",
   "execution_count": 62,
   "metadata": {},
   "outputs": [
    {
     "data": {
      "text/html": [
       "<div>\n",
       "<style scoped>\n",
       "    .dataframe tbody tr th:only-of-type {\n",
       "        vertical-align: middle;\n",
       "    }\n",
       "\n",
       "    .dataframe tbody tr th {\n",
       "        vertical-align: top;\n",
       "    }\n",
       "\n",
       "    .dataframe thead th {\n",
       "        text-align: right;\n",
       "    }\n",
       "</style>\n",
       "<table border=\"1\" class=\"dataframe\">\n",
       "  <thead>\n",
       "    <tr style=\"text-align: right;\">\n",
       "      <th>aggression_score</th>\n",
       "      <th>-3</th>\n",
       "      <th>-2</th>\n",
       "      <th>-1</th>\n",
       "      <th>0</th>\n",
       "      <th>1</th>\n",
       "      <th>2</th>\n",
       "      <th>3</th>\n",
       "    </tr>\n",
       "    <tr>\n",
       "      <th>education</th>\n",
       "      <th></th>\n",
       "      <th></th>\n",
       "      <th></th>\n",
       "      <th></th>\n",
       "      <th></th>\n",
       "      <th></th>\n",
       "      <th></th>\n",
       "    </tr>\n",
       "  </thead>\n",
       "  <tbody>\n",
       "    <tr>\n",
       "      <th>bachelors</th>\n",
       "      <td>15355</td>\n",
       "      <td>14480</td>\n",
       "      <td>32718</td>\n",
       "      <td>249853</td>\n",
       "      <td>20687</td>\n",
       "      <td>7479</td>\n",
       "      <td>2633</td>\n",
       "    </tr>\n",
       "    <tr>\n",
       "      <th>doctorate</th>\n",
       "      <td>349</td>\n",
       "      <td>380</td>\n",
       "      <td>783</td>\n",
       "      <td>5216</td>\n",
       "      <td>391</td>\n",
       "      <td>173</td>\n",
       "      <td>321</td>\n",
       "    </tr>\n",
       "    <tr>\n",
       "      <th>hs</th>\n",
       "      <td>9116</td>\n",
       "      <td>10486</td>\n",
       "      <td>23505</td>\n",
       "      <td>170274</td>\n",
       "      <td>14644</td>\n",
       "      <td>3877</td>\n",
       "      <td>2033</td>\n",
       "    </tr>\n",
       "    <tr>\n",
       "      <th>masters</th>\n",
       "      <td>6038</td>\n",
       "      <td>6758</td>\n",
       "      <td>14698</td>\n",
       "      <td>110800</td>\n",
       "      <td>7852</td>\n",
       "      <td>2671</td>\n",
       "      <td>764</td>\n",
       "    </tr>\n",
       "    <tr>\n",
       "      <th>none</th>\n",
       "      <td>1</td>\n",
       "      <td>0</td>\n",
       "      <td>7</td>\n",
       "      <td>64</td>\n",
       "      <td>23</td>\n",
       "      <td>0</td>\n",
       "      <td>0</td>\n",
       "    </tr>\n",
       "    <tr>\n",
       "      <th>professional</th>\n",
       "      <td>3778</td>\n",
       "      <td>4196</td>\n",
       "      <td>9464</td>\n",
       "      <td>66556</td>\n",
       "      <td>6357</td>\n",
       "      <td>1853</td>\n",
       "      <td>472</td>\n",
       "    </tr>\n",
       "    <tr>\n",
       "      <th>some</th>\n",
       "      <td>773</td>\n",
       "      <td>725</td>\n",
       "      <td>1335</td>\n",
       "      <td>11709</td>\n",
       "      <td>972</td>\n",
       "      <td>576</td>\n",
       "      <td>229</td>\n",
       "    </tr>\n",
       "  </tbody>\n",
       "</table>\n",
       "</div>"
      ],
      "text/plain": [
       "aggression_score     -3     -2     -1       0      1     2     3\n",
       "education                                                       \n",
       "bachelors         15355  14480  32718  249853  20687  7479  2633\n",
       "doctorate           349    380    783    5216    391   173   321\n",
       "hs                 9116  10486  23505  170274  14644  3877  2033\n",
       "masters            6038   6758  14698  110800   7852  2671   764\n",
       "none                  1      0      7      64     23     0     0\n",
       "professional       3778   4196   9464   66556   6357  1853   472\n",
       "some                773    725   1335   11709    972   576   229"
      ]
     },
     "execution_count": 62,
     "metadata": {},
     "output_type": "execute_result"
    }
   ],
   "source": [
    "# Transform the data into pivot table format for detail analysis\n",
    "aggression_tab_education = pd.crosstab(df_aggression_new_final['education'], \n",
    "                                       columns = df_aggression_new_final['aggression_score'])\n",
    "aggression_tab_education"
   ]
  },
  {
   "cell_type": "code",
   "execution_count": 63,
   "metadata": {},
   "outputs": [
    {
     "data": {
      "text/html": [
       "<div>\n",
       "<style scoped>\n",
       "    .dataframe tbody tr th:only-of-type {\n",
       "        vertical-align: middle;\n",
       "    }\n",
       "\n",
       "    .dataframe tbody tr th {\n",
       "        vertical-align: top;\n",
       "    }\n",
       "\n",
       "    .dataframe thead th {\n",
       "        text-align: right;\n",
       "    }\n",
       "</style>\n",
       "<table border=\"1\" class=\"dataframe\">\n",
       "  <thead>\n",
       "    <tr style=\"text-align: right;\">\n",
       "      <th>aggression_score</th>\n",
       "      <th>-3</th>\n",
       "      <th>-2</th>\n",
       "      <th>-1</th>\n",
       "      <th>0</th>\n",
       "      <th>1</th>\n",
       "      <th>2</th>\n",
       "      <th>3</th>\n",
       "    </tr>\n",
       "    <tr>\n",
       "      <th>education</th>\n",
       "      <th></th>\n",
       "      <th></th>\n",
       "      <th></th>\n",
       "      <th></th>\n",
       "      <th></th>\n",
       "      <th></th>\n",
       "      <th></th>\n",
       "    </tr>\n",
       "  </thead>\n",
       "  <tbody>\n",
       "    <tr>\n",
       "      <th>bachelors</th>\n",
       "      <td>0.433635</td>\n",
       "      <td>0.391087</td>\n",
       "      <td>0.396534</td>\n",
       "      <td>0.406614</td>\n",
       "      <td>0.406217</td>\n",
       "      <td>0.449756</td>\n",
       "      <td>0.408091</td>\n",
       "    </tr>\n",
       "    <tr>\n",
       "      <th>doctorate</th>\n",
       "      <td>0.009856</td>\n",
       "      <td>0.010263</td>\n",
       "      <td>0.009490</td>\n",
       "      <td>0.008489</td>\n",
       "      <td>0.007678</td>\n",
       "      <td>0.010404</td>\n",
       "      <td>0.049752</td>\n",
       "    </tr>\n",
       "    <tr>\n",
       "      <th>hs</th>\n",
       "      <td>0.257441</td>\n",
       "      <td>0.283214</td>\n",
       "      <td>0.284875</td>\n",
       "      <td>0.277106</td>\n",
       "      <td>0.287554</td>\n",
       "      <td>0.233147</td>\n",
       "      <td>0.315096</td>\n",
       "    </tr>\n",
       "    <tr>\n",
       "      <th>masters</th>\n",
       "      <td>0.170517</td>\n",
       "      <td>0.182525</td>\n",
       "      <td>0.178136</td>\n",
       "      <td>0.180317</td>\n",
       "      <td>0.154185</td>\n",
       "      <td>0.160623</td>\n",
       "      <td>0.118413</td>\n",
       "    </tr>\n",
       "    <tr>\n",
       "      <th>none</th>\n",
       "      <td>0.000028</td>\n",
       "      <td>0.000000</td>\n",
       "      <td>0.000085</td>\n",
       "      <td>0.000104</td>\n",
       "      <td>0.000452</td>\n",
       "      <td>0.000000</td>\n",
       "      <td>0.000000</td>\n",
       "    </tr>\n",
       "    <tr>\n",
       "      <th>professional</th>\n",
       "      <td>0.106693</td>\n",
       "      <td>0.113329</td>\n",
       "      <td>0.114701</td>\n",
       "      <td>0.108314</td>\n",
       "      <td>0.124828</td>\n",
       "      <td>0.111432</td>\n",
       "      <td>0.073156</td>\n",
       "    </tr>\n",
       "    <tr>\n",
       "      <th>some</th>\n",
       "      <td>0.021830</td>\n",
       "      <td>0.019581</td>\n",
       "      <td>0.016180</td>\n",
       "      <td>0.019055</td>\n",
       "      <td>0.019087</td>\n",
       "      <td>0.034638</td>\n",
       "      <td>0.035493</td>\n",
       "    </tr>\n",
       "  </tbody>\n",
       "</table>\n",
       "</div>"
      ],
      "text/plain": [
       "aggression_score        -3        -2        -1         0         1         2  \\\n",
       "education                                                                      \n",
       "bachelors         0.433635  0.391087  0.396534  0.406614  0.406217  0.449756   \n",
       "doctorate         0.009856  0.010263  0.009490  0.008489  0.007678  0.010404   \n",
       "hs                0.257441  0.283214  0.284875  0.277106  0.287554  0.233147   \n",
       "masters           0.170517  0.182525  0.178136  0.180317  0.154185  0.160623   \n",
       "none              0.000028  0.000000  0.000085  0.000104  0.000452  0.000000   \n",
       "professional      0.106693  0.113329  0.114701  0.108314  0.124828  0.111432   \n",
       "some              0.021830  0.019581  0.016180  0.019055  0.019087  0.034638   \n",
       "\n",
       "aggression_score         3  \n",
       "education                   \n",
       "bachelors         0.408091  \n",
       "doctorate         0.049752  \n",
       "hs                0.315096  \n",
       "masters           0.118413  \n",
       "none              0.000000  \n",
       "professional      0.073156  \n",
       "some              0.035493  "
      ]
     },
     "execution_count": 63,
     "metadata": {},
     "output_type": "execute_result"
    }
   ],
   "source": [
    "# Viewing details from total distribution by aggression score bucket\n",
    "aggression_tab_education / aggression_tab_education.sum()"
   ]
  },
  {
   "cell_type": "markdown",
   "metadata": {},
   "source": [
    "*Comment 25: from a high level, the higher education (bachelors, masters, doctorate) holds more than **57.8%** and is consistent when comparing among the toxicity score bucket (very toxic, neutral, very healthy)*\n",
    "\n",
    "*Another insight to point out that worker with no education background even though accounts a small percentage in total but it has higher toxicity score toward slightly healthy comments based on ratio proportion.*"
   ]
  },
  {
   "cell_type": "markdown",
   "metadata": {},
   "source": [
    "Visualize this findings by plotting a chart below"
   ]
  },
  {
   "cell_type": "code",
   "execution_count": 64,
   "metadata": {},
   "outputs": [
    {
     "data": {
      "image/png": "[encoded data removed]",
      "text/plain": [
       "<Figure size 1008x432 with 1 Axes>"
      ]
     },
     "metadata": {},
     "output_type": "display_data"
    }
   ],
   "source": [
    "# Plot an aggregate visualization to answer the exploratory question\n",
    "df_aggression_new_final[['education', 'aggression_score']].groupby('education').agg(['mean']).plot.bar()\n",
    "fig = plt.gcf()\n",
    "fig.set_size_inches(14, 6)\n",
    "plt.title(\"Average aggression score by EDUCATION\")\n",
    "plt.xlabel('Education')\n",
    "plt.ylabel('mean aggression_score')\n",
    "plt.legend(loc=2)\n",
    "\n",
    "# Save the plot into a JPG picture file. The file will be saved in the same working directory of my Jupyter notebook.\n",
    "# The path location will be different on your machine. Feel free to update the directory to your choice.\n",
    "plt.savefig('A2_chart_education-aggression_score.jpg', bbox_inches='tight', dpi=80)\n",
    "\n",
    "plt.show()"
   ]
  },
  {
   "cell_type": "markdown",
   "metadata": {},
   "source": [
    "Let's go one step further by incorporate one more dimension into the visualization to make it multivariate chart.\n",
    "\n",
    "3D = 3 dimensional variables (education + aggression score + gender)"
   ]
  },
  {
   "cell_type": "code",
   "execution_count": 65,
   "metadata": {},
   "outputs": [
    {
     "data": {
      "image/png": "[encoded data removed]",
      "text/plain": [
       "<Figure size 1152x576 with 1 Axes>"
      ]
     },
     "metadata": {},
     "output_type": "display_data"
    }
   ],
   "source": [
    "fig = plt.gcf()\n",
    "fig.set_size_inches(16, 8)\n",
    "\n",
    "sn.set(style=\"whitegrid\")\n",
    "\n",
    "### Violin plot\n",
    "sn.violinplot(df_aggression_new_final['education'], \n",
    "               df_aggression_new_final['aggression_score'],\n",
    "               hue = df_aggression_new_final['gender'],\n",
    "               shade = True,\n",
    "               linewidth = 0.5);\n",
    "plt.title('Multivariate Chart: Impact of Education and Gender on Aggression Score')\n",
    "\n",
    "# Save the plot into a JPG picture file. The file will be saved in the same working directory of my Jupyter notebook.\n",
    "# The path location will be different on your machine. Feel free to update the directory to your choice.\n",
    "plt.savefig('A2_chart_education-aggression_score-gender.jpg', bbox_inches='tight', dpi=80)"
   ]
  },
  {
   "cell_type": "markdown",
   "metadata": {},
   "source": [
    "*Comment 26: With only two dimension variables (education, aggression score), we wonder why no education background (none) is unique from the previous chart.*\n",
    "\n",
    "*Now with 3D chart (education, aggression score, gender), we see the reason of why and the **BIAS** it produces*\n",
    "\n",
    "*- As previous found, male workers as annotators are more than female workers. This not gender-balanced is a point 1*\n",
    "\n",
    "*- This violin chart reveals a missing female workers data point with no education background. This is another point 2*\n",
    "\n",
    "*These 2 points together present another **BIAS** in labelling aggression comment by gender from education background view*"
   ]
  },
  {
   "cell_type": "markdown",
   "metadata": {},
   "source": [
    "# Part 2: Results"
   ]
  },
  {
   "cell_type": "markdown",
   "metadata": {},
   "source": [
    "### TOXICITY Analysis"
   ]
  },
  {
   "cell_type": "markdown",
   "metadata": {},
   "source": [
    "**WHAT DID YOU FIND?**\n",
    "\n",
    "Throughout the EDA journey, i find out the answer for my question: **Is there a bias relationships between worker demographics and labeling behavior in toxicity? The answer is YES.**\n",
    "\n",
    "Many worker demographic data components play an important role in annotating (labeling) toxicity comments not only by themself but also when merging with toxicity score dataset."
   ]
  },
  {
   "cell_type": "markdown",
   "metadata": {},
   "source": [
    "------"
   ]
  },
  {
   "cell_type": "markdown",
   "metadata": {},
   "source": [
    "**DID YOU FIND BIAS?**\n",
    "\n",
    "There are bias in making the judgement about toxicity comments from the following data fields:\n",
    "- Gender\n",
    "- English as First Language\n",
    "- Age Group\n",
    "- Education\n",
    "\n",
    "These biases are noted in my comments from the code."
   ]
  },
  {
   "cell_type": "markdown",
   "metadata": {},
   "source": [
    "------"
   ]
  },
  {
   "cell_type": "markdown",
   "metadata": {},
   "source": [
    "**DID YOU NOT?**\n",
    "\n",
    "For toxicity annotated comment data file (included actual real comment in text), I plan to use the word cloud and natural language processing (NLP) for analysis, but i saw some comments, especially words, are not approriate to show or display in the results and visualization. I decided not to perform an in-deep analysis on the comments.\n",
    "\n",
    "To me, it is better to leave these sensitive words out of the analysis. That is my judgement call to ensure we have a clean and productive results, and most importantly, respect the research ethical norms."
   ]
  },
  {
   "cell_type": "markdown",
   "metadata": {},
   "source": [
    "### AGGRESSION Analysis"
   ]
  },
  {
   "cell_type": "markdown",
   "metadata": {},
   "source": [
    "**WHAT DID YOU FIND?**\n",
    "\n",
    "Throughout the EDA journey, i find out the answer for my question: **Is there a bias relationships between worker demographics and labeling behavior in aggression? The answer is YES.**\n",
    "\n",
    "Many worker demographic data components play an important role in annotating (labeling) aggression comments not only by themself but also when merging with aggression score dataset."
   ]
  },
  {
   "cell_type": "markdown",
   "metadata": {},
   "source": [
    "-----"
   ]
  },
  {
   "cell_type": "markdown",
   "metadata": {},
   "source": [
    "**DID YOU FIND BIAS?**\n",
    "\n",
    "There are bias in making the judgement about aggresssion comments from the following data fields:\n",
    "- Gender\n",
    "- English as First Language\n",
    "- Age Group\n",
    "- Education\n",
    "\n",
    "These biases are noted in my comments from the code."
   ]
  },
  {
   "cell_type": "markdown",
   "metadata": {},
   "source": [
    "------"
   ]
  },
  {
   "cell_type": "markdown",
   "metadata": {},
   "source": [
    "**DID YOU NOT?**\n",
    "\n",
    "For aggression annotated comment data file (included actual real comment in text), I plan to use the word cloud and natural language processing (NLP) for analysis, but i saw some comments, especially words, are not approriate to show or display in the results and visualization. I decided not to perform an in-deep analysis on the comments.\n",
    "\n",
    "To me, it is better to leave these sensitive words out of the analysis. That is my judgement call to ensure we have a clean and productive results, and most importantly, respect the research ethical norms."
   ]
  },
  {
   "cell_type": "markdown",
   "metadata": {},
   "source": [
    "# Part 3: Implications for research and product development"
   ]
  },
  {
   "cell_type": "markdown",
   "metadata": {},
   "source": [
    "Below are some of my thoughts for further implications about bias after reviewing the Perspective Hacks application demo\n",
    "\n",
    "**Link to Perspective Hacks**\n",
    "https://github.com/conversationai/perspectiveapi/wiki/perspective-hacks\n"
   ]
  },
  {
   "cell_type": "markdown",
   "metadata": {},
   "source": [
    "**Questions 1:** *Which, if any, of these demo applications would you expect the Perspective API to perform poorly in? Why?*\n",
    "\n",
    "The application name \"Comment Slider\" is developed with the intend to sort the comment stream based on the toxicity score of each comment. \n",
    "\n",
    "I expect this application to perform poorly in sorting the comment on Twitter stream. There are a couple of reasons:\n",
    "1. The activity - Twitter comment - it is supposed to support is dynamic and complex. On top of that, there are a limit on how many characters in each tweet and the creation of new communication sign everyday. Another scenario is mixing characters from multiple languages in one tweet. These factors impact the sorting comment based on the toxicity score of the application performance.\n",
    "\n",
    "\n",
    "2. As we learn earlier from the above toxicity analysis, we see demographic characteristics present bias in toxicity labelling activity. There will be bias in the demographic twitter users. Each people will have his or her own political background, education, background, age group, income salary, etc. These demographic information traits are not available on the Twitter stream and based on the user privacy sharing setting of their profiles. Therefore, it will be a challange for the application \"Comment Slider\" to sort comments for toxicity score. "
   ]
  },
  {
   "cell_type": "markdown",
   "metadata": {},
   "source": [
    "**Question 2:** *What are some kinds of hostile speech that would be difficult to accurately detect using the approach used to train the Perspective API models?*\n",
    "\n",
    "A recent presidental debate is a good example. The \"Comment Filter\" application is created with intent to empower readers to choose what level of toxicity they want to read on different news sites using a Chrome extension. I expect it will be tough for this application to examine the debate in this scenario\n",
    "\n",
    "One of the challenges is the speaking over each other or interrupting each other on the stage. As a human being, we struggle to understand the content in this chaos environment. How can we expect the \"Comment Filter\" to identify the spoken words from the hostile speech in order to be effecive in this scenario. It will be difficult to train the model in this nature."
   ]
  },
  {
   "cell_type": "markdown",
   "metadata": {},
   "source": [
    "**Question 3:** *Imagine you are one of the Google data scientists who maintains the Perspective API. If you wanted to improve the model or the API itself to make it work better for any of these purposes, how should they go about doing that?*\n",
    "\n",
    "There are couple of things i would do:\n",
    "1. Another important aspect of bias is unconsious bias. This unconsious bias becomes increasingly discussed recently. Can this machine learning model handle the unconsious bias from the comments as well as from the crown-worker? That is where we need to build a good dataset focusing on unconsious bias to feed into the current model. This is the project i will take on to improve the model API. \n",
    "\n",
    "\n",
    "2. Human knowledge is important in machine learning. Diverse opinions and unique experience bring the good outcome for any employer. How about we implement this Diversity & Inclusion in Perspective API? By including people from many education background, many cultural difference, country of origin, etc working on the same Perspective API project; we can use these various knowledge and experiences to build a robust machine learning model. In returns, we have a better model to recognize bias. I would advocate to the hiring manager on this proposal for hiring diverse people.\n",
    "\n",
    "\n",
    "3. Finally, most of the current Perspective API tools are for Google Chrome extension only. I would love to improve these API tools by making them available on other browsers such as Microsoft Internet Explore and Apple Safari. The more diverse users we have, the more feedbacks and data we get back to train the model.  "
   ]
  },
  {
   "cell_type": "code",
   "execution_count": null,
   "metadata": {},
   "outputs": [],
   "source": []
  }
 ],
 "metadata": {
  "kernelspec": {
   "display_name": "Python 3",
   "language": "python",
   "name": "python3"
  },
  "language_info": {
   "codemirror_mode": {
    "name": "ipython",
    "version": 3
   },
   "file_extension": ".py",
   "mimetype": "text/x-python",
   "name": "python",
   "nbconvert_exporter": "python",
   "pygments_lexer": "ipython3",
   "version": "3.8.3"
  }
 },
 "nbformat": 4,
 "nbformat_minor": 4
}
